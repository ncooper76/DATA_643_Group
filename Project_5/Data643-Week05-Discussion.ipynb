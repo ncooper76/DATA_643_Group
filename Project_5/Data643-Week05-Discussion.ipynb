{
 "cells": [
  {
   "cell_type": "markdown",
   "metadata": {},
   "source": [
    "### Research Discussion Assignment 4: Censorship\n",
    "\n",
    "_Pavan Akula_\n",
    "\n",
    "Today's content-based recommender systems will suggest similar articles, even if we click on a link on accident. I guess recommender systems are functions as they are intended to work. As many of us experience on a daily basis, \n",
    "\n",
    "- Separating Actual Vs. Fake news\n",
    "- Defamation and cyberbullying\n",
    "\n",
    "Times article describes working of troll. It is tough to differentiate between content suggested/posted by internet troll from real human being. \n",
    "\n",
    "http://time.com/5168202/russia-troll-internet-research-agency/\n",
    "\n",
    "Washington post, 2016 article explains how chatbots could be exploited by teaching them negative content.\n",
    "\n",
    "https://www.washingtonpost.com/news/the-intersect/wp/2016/03/24/the-internet-turned-tay-microsofts-fun-millennial-ai-bot-into-a-genocidal-maniac/?noredirect=on&utm_term=.7766199c569f\n",
    "\n",
    "I see the issue as, \n",
    "\n",
    "- Pure logic math and statistics, if a user likes articles and chats of a specific taste, keep them engaged by suggesting similar content. More we engage a higher chance of increasing advertisement revenues. Business interests.\n",
    "- The concerted effort to misled the users, online defamation. \n",
    "\n",
    "In both cases, ownership falls on companies or business providing platform. If we remember wardrobe malfunction from Superbowl 2004 halftime show, there were lawsuits filed against CBS, Janet Jackson and Justin Timberlake for outrageous conduct. Irrespective of the outcome of legal battles, the incident led to a five-second broadcast delay being implemented for all future performances on live television to ensure that any potentially indecent material is not broadcast in full.\n",
    "\n",
    "I believe similar measures should be taken before users are allowed to post any negative and baseless articles. The burden of proof should be placed on the user and ultimately on the companies providing the platform.\n",
    "\n",
    "Article 'Spot a Bot' on medium.com, suggests some more measures to identify automation and disinformation on social media. Digital investigation companies similar to Rexxfield LLC, should be encouraged.\n",
    "\n",
    "#### References\n",
    "\n",
    "- https://abcnews.go.com/Technology/identify-anonymous-bloggers-internet-trolls/story?id=12004507\n",
    "- https://www.youtube.com/watch?v=npF1lkKEM9o\n",
    "- https://en.wikipedia.org/wiki/Super_Bowl_XXXVIII_halftime_show_controversy\n",
    "- https://medium.com/data-for-democracy/spot-a-bot-identifying-automation-and-disinformation-on-social-media-2966ad93a203"
   ]
  }
 ],
 "metadata": {
  "kernelspec": {
   "display_name": "Python 3",
   "language": "python",
   "name": "python3"
  },
  "language_info": {
   "codemirror_mode": {
    "name": "ipython",
    "version": 3
   },
   "file_extension": ".py",
   "mimetype": "text/x-python",
   "name": "python",
   "nbconvert_exporter": "python",
   "pygments_lexer": "ipython3",
   "version": "3.6.5"
  }
 },
 "nbformat": 4,
 "nbformat_minor": 2
}

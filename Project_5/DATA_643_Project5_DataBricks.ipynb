{
 "cells": [
  {
   "cell_type": "code",
   "execution_count": 1,
   "metadata": {},
   "outputs": [],
   "source": [
    "import pyspark\n",
    "from pyspark.sql import SparkSession\n",
    "spark = SparkSession.builder.getOrCreate()\n",
    "from pyspark.sql.types import *\n",
    "from pyspark.sql import SQLContext\n",
    "from pyspark import SparkConf\n",
    "from pyspark.mllib.recommendation import ALS\n",
    "from pyspark.mllib.classification import NaiveBayes\n",
    "from pyspark.mllib.regression import LabeledPoint\n",
    "from pyspark import SparkContext\n",
    "\n",
    "sc = SparkContext.getOrCreate(SparkConf().setMaster(\"local[*]\"))\n",
    "\n",
    "sqlContext = SQLContext(sc)"
   ]
  },
  {
   "cell_type": "code",
   "execution_count": 2,
   "metadata": {},
   "outputs": [],
   "source": [
    "from pyspark.mllib.recommendation import ALS, MatrixFactorizationModel, Rating"
   ]
  },
  {
   "cell_type": "code",
   "execution_count": 3,
   "metadata": {},
   "outputs": [],
   "source": [
    "#For databricks,  the data were uploaded into the databricks SQL sever\n",
    "#This gave the option to use the first row directly, and made it much\n",
    "#easier to convert the data to RDD format for processing\n",
    "ratings = spark.sql(\"select userId,movieId,rating from ratings_csv\")\n",
    "ratings = ratings.rdd"
   ]
  },
  {
   "cell_type": "code",
   "execution_count": 4,
   "metadata": {},
   "outputs": [],
   "source": [
    "ratings.take(5)\n",
    "#type(ratings)"
   ]
  },
  {
   "cell_type": "code",
   "execution_count": 5,
   "metadata": {},
   "outputs": [],
   "source": [
    "#Generate datasets\n",
    "#Split dataset into train, validation and test sets\n",
    "movie_train, movie_val, movie_test= ratings.randomSplit([0.6, 0.2, 0.2])\n",
    "\n",
    "#Load data into memory\n",
    "movie_train.cache()\n",
    "movie_test.cache()\n",
    "movie_val.cache()\n",
    "\n",
    "#Sample results\n",
    "print('Train set')\n",
    "movie_train.take(5)"
   ]
  },
  {
   "cell_type": "code",
   "execution_count": 6,
   "metadata": {},
   "outputs": [],
   "source": [
    "#Remove ratings for validation and test datasets\n",
    "movie_test_no_rate = movie_test.map(lambda x: (x[0], x[1]))\n",
    "movie_val_no_rate = movie_val.map(lambda x: (x[0], x[1]))\n",
    "\n",
    "#Load data into memory\n",
    "movie_test_no_rate.cache()\n",
    "movie_val_no_rate.cache()"
   ]
  },
  {
   "cell_type": "code",
   "execution_count": 7,
   "metadata": {},
   "outputs": [],
   "source": [
    "# Training the model\n",
    "import math\n",
    "rank = 1\n",
    "iterations = 5\n",
    "\n",
    "min_error = 0\n",
    "best_rank = -1\n",
    "\n",
    "for rank in range(1, 8):\n",
    "    #generate model\n",
    "    model = ALS.train(movie_train, rank=rank, iterations=iterations)\n",
    "\n",
    "    #generate predictions\n",
    "    predictions = model.predictAll(movie_val_no_rate).map(lambda r: ((r[0], r[1]), r[2]))\n",
    "\n",
    "    #get actual vs predictions\n",
    "    rates_and_preds = movie_val.map(lambda r: ((int(r[0]), int(r[1])), float(r[2]))).join(predictions)\n",
    "\n",
    "    #calculate error\n",
    "    error = math.sqrt(rates_and_preds.map(lambda r: (r[1][0] - r[1][1])**2).mean())\n",
    "\n",
    "    #display output\n",
    "    print('For rank %s the RMSE is %s' % (rank, error))\n",
    "\n",
    "    if error < min_error:\n",
    "        best_rank = rank\n",
    "\n",
    "    min_error = error\n",
    "        \n",
    "print('The best model was trained with rank %s' % best_rank)"
   ]
  },
  {
   "cell_type": "code",
   "execution_count": 8,
   "metadata": {},
   "outputs": [],
   "source": [
    "#generate the model with best rank and iterations\n",
    "rank = 4\n",
    "iterations = 5\n",
    "model = ALS.train(movie_train, rank=rank, iterations=iterations)\n",
    "\n",
    "#apply the model for test data.\n",
    "predictions = model.predictAll(movie_test_no_rate).map(lambda r: ((r[0], r[1]), r[2]))\n",
    "\n",
    "# joining the prediction with the original test dataset\n",
    "ratesAndPreds = movie_test.map(lambda r: ((r[0], r[1]), r[2])).join(predictions)\n",
    "\n",
    "# calculating error\n",
    "RMSE = math.sqrt(ratesAndPreds.map(lambda r: (r[1][0] - r[1][1])**2).mean())\n",
    "print(\"Root Mean Squared Error = \" + str(RMSE))"
   ]
  }
 ],
 "metadata": {
  "kernelspec": {
   "display_name": "Python 3",
   "language": "python",
   "name": "python3"
  },
  "language_info": {
   "codemirror_mode": {
    "name": "ipython",
    "version": 3
   },
   "file_extension": ".py",
   "mimetype": "text/x-python",
   "name": "python",
   "nbconvert_exporter": "python",
   "pygments_lexer": "ipython3",
   "version": "3.6.5"
  },
  "name": "DATA_643_Project5",
  "notebookId": 3831348509600225
 },
 "nbformat": 4,
 "nbformat_minor": 1
}

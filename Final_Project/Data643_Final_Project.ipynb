{
 "cells": [
  {
   "cell_type": "markdown",
   "metadata": {},
   "source": [
    "### DATA 643 Final Project: Yelp Dataset - Serendipity Recommender System\n",
    "_Nathaniel Cooper, Angus Huang, Pavan Akula_\n",
    "\n",
    "#### Background\n",
    "\n",
    "From Zagat Ratings and Michelin Stars, to Yelp and Grubhub, restaurant recommendations are perhaps the oldest and most ubiquitous recommendation area. Having used movie review data for the previous project, we now want to apply our skills to another area of recommendation that has broad commercial application. Yelp is a digital platform for business reviews with special focus on restaurants and boasts 30 millions monthly unique users.\n",
    "\n",
    "The use of recommender system is very widespread in retail and service industries. These industries usually have big amount of data where retrieving relevant small bit of data are from ocean of data is crucial to the success of the business. The interactive nature of the business with the customers or users make these industries ideal for recommender system. We hope to learn the established practice of such recommender systems and add our own creative flavor in doing so. The restaurant industry is naturally a prime target after the transportation system was disrupted by companies such as Uber, Lyft and Via.\n",
    "\n",
    "#### Dataset\n",
    "\n",
    "We decided to use a set of user ratings for restaurants in _Pittsburgh, PA_, available at https://www.yelp.com/dataset. The data consists 5,261,668 user-item ratings from 1 to 5 stars, written critiques, and feedback from other users as to whether the comment was useful,cool, or funny. The user and restaurant id’s take the form of hash id’s, so we have to bring in two other csv files to make the id’s human-readable. This data set is 3.53 GB and meets the size requirement for the final and is amenable to a wide range of recommender system methods: collaborative filtering, content-based, or matrix factorization.\n",
    "\n",
    "Upon initial investigation we noticed that dataset is very sparse. We believe it is fair to assume once user finds restaurants that cater according to their taste most of them stick with same restaurant. This motivated us to develop recommender system that suggests restaurants that are dis-similar to user taste.\n",
    "\n",
    "#### Methodology\n",
    "\n",
    "As the dataset is very sparse and with the idea of not excluding any data, we will be using baseline raw-average method to fill in missing values. Our goal is to build a _Serendipity_ recommender system, using _SVD & Logistic Regression Methods_, such that we can provide suggestions to users with a list of restaurants based on _latent features_ and not just based on rating similarity. For the scope of the project, we will be using three latent features.\n",
    "\n",
    "- is_open, the field indicates if the restaurant is open, in the final list we will only suggest user restaurants that are open.\n",
    "- review_count, total reviews a restaurant has received, including good and bad. For the scope of the project, we are not differentiating review type.\n",
    "- stars, a critic rating, such as _Michelin_ or _Zagat_.\n",
    "\n",
    "As the first step, we have coded userId and businessId as numeric from character values. Numeric values are easy to manage when converting data back and forth between matrices. Steps,\n",
    "\n",
    "- Compute raw-average for the entire dataset, user-bias as per user average and business-bias as per business average. Fill in only missing values with raw-average + user-bias + business-bias.\n",
    "- Using _svds_ function from _scipy.sparse.linalg_ library, compute $R = U\\Sigma V^{T}$. Compute optimal *k* value to eliminate some of the dimensions. In our case, after applying raw-averages, we were able to eliminate close to 19K dimensions. \n",
    "- Convert the newly generated matrix into the user, business and rating data frame. Dataframe contains 93.34 million records. It takes a significant amount of memory.\n",
    "- Generate individual user profile that will have a user, business, visited(1-Yes, 0-No) and rating.\n",
    "- Attach latent features of business to each user profile.\n",
    "- At this point, we should have a data frame that has columns, userId, businessId, visited, rating, is_open, review_count, and stars.\n",
    "- Split the dataset into two parts based on user visited=='yes' and visited='no,' again split restaurants user has not visited in two parts(80/20). Combine 80% with visited=='yes' and this becomes our training dataset and rest 20% will be testing dataset.\n",
    "- Split training dataset into 70/30, 30% as a validation dataset and build a logistic regression model. Check for accuracy using confusion matrix, precision, recall, F-score, and ROC. The goal is to achieve accuracy between 55% to 70%. If the accuracy goes above 80%, the model is overfitting. In other words, the model is learning and predicting restaurants that user already visited, latent features have no impact on the model.\n",
    "- Once we achieve appropriate accuracy, build a final logistic regression using complete training and test datasets.\n",
    "- Prediction output gives a list of suggestions that user might visit based on latent features."
   ]
  },
  {
   "cell_type": "code",
   "execution_count": 1,
   "metadata": {},
   "outputs": [],
   "source": [
    "#Load libraries and functions\n",
    "import numpy as np\n",
    "import pandas as pd\n",
    "from scipy.sparse.linalg import svds\n",
    "from sklearn.metrics import mean_squared_error\n",
    "import matplotlib.pyplot as plt\n",
    "from sklearn.model_selection import train_test_split\n",
    "import gc\n",
    "import statsmodels.api as sm\n",
    "from sklearn.linear_model import LogisticRegression\n",
    "from sklearn import metrics\n",
    "from sklearn import model_selection\n",
    "from sklearn.model_selection import cross_val_score\n",
    "from sklearn.metrics import confusion_matrix\n",
    "from sklearn.metrics import classification_report\n",
    "from sklearn.metrics import roc_auc_score\n",
    "from sklearn.metrics import roc_curve\n",
    "%matplotlib inline\n",
    "\n",
    "#Sparsity finction\n",
    "def isSparse(array) :\n",
    "    m, n = array.shape\n",
    "    counter = 0\n",
    "  \n",
    "    # Count number of zeros\n",
    "    # in the matrix\n",
    "    for i in range(0,m) :\n",
    "        for j in range(0,n) :\n",
    "            if (array[i][j] == 0) :\n",
    "                counter = counter + 1\n",
    "  \n",
    "    return (counter * 100 / (m * n))\n"
   ]
  },
  {
   "cell_type": "code",
   "execution_count": 2,
   "metadata": {},
   "outputs": [],
   "source": [
    "#Load datasets\n",
    "ratings_pd = pd.read_csv('https://raw.githubusercontent.com/ncooper76/DATA_643_Group/master/Final_Project/review_p.csv')\n",
    "business_pd = pd.read_csv('https://raw.githubusercontent.com/ncooper76/DATA_643_Group/master/Final_Project/business_p.csv')\n",
    "user_pd = pd.read_csv('https://raw.githubusercontent.com/ncooper76/DATA_643_Group/master/Final_Project/user_p.csv')\n",
    "\n",
    "#Since user id is char datatype convert to numeric\n",
    "business_pd['businessId'] = business_pd.index + 1\n",
    "user_pd['userId'] = user_pd.index + 1"
   ]
  },
  {
   "cell_type": "code",
   "execution_count": 3,
   "metadata": {},
   "outputs": [],
   "source": [
    "#apply numeric value to ratings dataset\n",
    "ratings_pd = ratings_pd.merge(business_pd, how = 'left', left_on = 'business_id', right_on = 'business_id')\n",
    "ratings_pd = ratings_pd.merge(user_pd, how = 'left', left_on = 'user_id', right_on = 'user_id')\n",
    "ratings_pd = ratings_pd[['businessId', 'stars_x', 'userId']]\n",
    "ratings_pd.columns = ['businessId', 'stars','userId']"
   ]
  },
  {
   "cell_type": "code",
   "execution_count": 4,
   "metadata": {},
   "outputs": [
    {
     "data": {
      "text/plain": [
       "userId\n",
       "1        1\n",
       "24724    1\n",
       "24723    1\n",
       "24721    1\n",
       "24719    1\n",
       "24718    1\n",
       "24715    1\n",
       "24713    1\n",
       "24712    1\n",
       "24711    1\n",
       "dtype: int64"
      ]
     },
     "execution_count": 4,
     "metadata": {},
     "output_type": "execute_result"
    }
   ],
   "source": [
    "#Calculate user-business ratings\n",
    "user_visits = ratings_pd.groupby(['userId']).size().sort_values(ascending=True)\n",
    "\n",
    "user_visits.head(10)"
   ]
  },
  {
   "cell_type": "markdown",
   "metadata": {},
   "source": [
    "Above Users 1, 24724, 24723 ... rated single restaurant."
   ]
  },
  {
   "cell_type": "code",
   "execution_count": 5,
   "metadata": {},
   "outputs": [
    {
     "data": {
      "text/plain": [
       "userId\n",
       "1874     192\n",
       "13757    208\n",
       "37600    236\n",
       "20546    241\n",
       "1908     245\n",
       "15052    247\n",
       "41339    336\n",
       "23696    337\n",
       "35390    365\n",
       "32526    466\n",
       "dtype: int64"
      ]
     },
     "execution_count": 5,
     "metadata": {},
     "output_type": "execute_result"
    }
   ],
   "source": [
    "user_visits.tail(10)"
   ]
  },
  {
   "cell_type": "markdown",
   "metadata": {},
   "source": [
    "Users 32526 has rated most restaurants, 466 of them. Similarly, user 35390 has rated 365 restaurants. "
   ]
  },
  {
   "cell_type": "code",
   "execution_count": 6,
   "metadata": {},
   "outputs": [
    {
     "data": {
      "text/html": [
       "<div>\n",
       "<style scoped>\n",
       "    .dataframe tbody tr th:only-of-type {\n",
       "        vertical-align: middle;\n",
       "    }\n",
       "\n",
       "    .dataframe tbody tr th {\n",
       "        vertical-align: top;\n",
       "    }\n",
       "\n",
       "    .dataframe thead th {\n",
       "        text-align: right;\n",
       "    }\n",
       "</style>\n",
       "<table border=\"1\" class=\"dataframe\">\n",
       "  <thead>\n",
       "    <tr style=\"text-align: right;\">\n",
       "      <th></th>\n",
       "      <th>users</th>\n",
       "      <th>ratingCount</th>\n",
       "    </tr>\n",
       "  </thead>\n",
       "  <tbody>\n",
       "    <tr>\n",
       "      <th>125</th>\n",
       "      <td>25606</td>\n",
       "      <td>1</td>\n",
       "    </tr>\n",
       "    <tr>\n",
       "      <th>124</th>\n",
       "      <td>6850</td>\n",
       "      <td>2</td>\n",
       "    </tr>\n",
       "    <tr>\n",
       "      <th>123</th>\n",
       "      <td>3183</td>\n",
       "      <td>3</td>\n",
       "    </tr>\n",
       "    <tr>\n",
       "      <th>122</th>\n",
       "      <td>1774</td>\n",
       "      <td>4</td>\n",
       "    </tr>\n",
       "    <tr>\n",
       "      <th>121</th>\n",
       "      <td>1039</td>\n",
       "      <td>5</td>\n",
       "    </tr>\n",
       "    <tr>\n",
       "      <th>120</th>\n",
       "      <td>702</td>\n",
       "      <td>6</td>\n",
       "    </tr>\n",
       "    <tr>\n",
       "      <th>119</th>\n",
       "      <td>526</td>\n",
       "      <td>7</td>\n",
       "    </tr>\n",
       "    <tr>\n",
       "      <th>118</th>\n",
       "      <td>386</td>\n",
       "      <td>8</td>\n",
       "    </tr>\n",
       "    <tr>\n",
       "      <th>117</th>\n",
       "      <td>298</td>\n",
       "      <td>9</td>\n",
       "    </tr>\n",
       "    <tr>\n",
       "      <th>116</th>\n",
       "      <td>246</td>\n",
       "      <td>10</td>\n",
       "    </tr>\n",
       "    <tr>\n",
       "      <th>115</th>\n",
       "      <td>181</td>\n",
       "      <td>11</td>\n",
       "    </tr>\n",
       "    <tr>\n",
       "      <th>114</th>\n",
       "      <td>134</td>\n",
       "      <td>12</td>\n",
       "    </tr>\n",
       "    <tr>\n",
       "      <th>113</th>\n",
       "      <td>116</td>\n",
       "      <td>14</td>\n",
       "    </tr>\n",
       "    <tr>\n",
       "      <th>112</th>\n",
       "      <td>113</td>\n",
       "      <td>13</td>\n",
       "    </tr>\n",
       "    <tr>\n",
       "      <th>111</th>\n",
       "      <td>87</td>\n",
       "      <td>15</td>\n",
       "    </tr>\n",
       "    <tr>\n",
       "      <th>110</th>\n",
       "      <td>70</td>\n",
       "      <td>16</td>\n",
       "    </tr>\n",
       "    <tr>\n",
       "      <th>109</th>\n",
       "      <td>62</td>\n",
       "      <td>19</td>\n",
       "    </tr>\n",
       "    <tr>\n",
       "      <th>108</th>\n",
       "      <td>61</td>\n",
       "      <td>17</td>\n",
       "    </tr>\n",
       "    <tr>\n",
       "      <th>107</th>\n",
       "      <td>53</td>\n",
       "      <td>20</td>\n",
       "    </tr>\n",
       "    <tr>\n",
       "      <th>106</th>\n",
       "      <td>46</td>\n",
       "      <td>18</td>\n",
       "    </tr>\n",
       "  </tbody>\n",
       "</table>\n",
       "</div>"
      ],
      "text/plain": [
       "     users  ratingCount\n",
       "125  25606            1\n",
       "124   6850            2\n",
       "123   3183            3\n",
       "122   1774            4\n",
       "121   1039            5\n",
       "120    702            6\n",
       "119    526            7\n",
       "118    386            8\n",
       "117    298            9\n",
       "116    246           10\n",
       "115    181           11\n",
       "114    134           12\n",
       "113    116           14\n",
       "112    113           13\n",
       "111     87           15\n",
       "110     70           16\n",
       "109     62           19\n",
       "108     61           17\n",
       "107     53           20\n",
       "106     46           18"
      ]
     },
     "execution_count": 6,
     "metadata": {},
     "output_type": "execute_result"
    }
   ],
   "source": [
    "user_visits = pd.DataFrame(user_visits)\n",
    "user_visits['userId'] = user_visits.index\n",
    "user_visits = user_visits.reset_index(drop=True)\n",
    "user_visits.columns = ['ratingCount','userId']\n",
    "rating_visits = user_visits.groupby(['ratingCount']).size().sort_values(ascending=True)\n",
    "rating_visits = pd.DataFrame(rating_visits)\n",
    "rating_visits['users'] = rating_visits.index\n",
    "rating_visits = rating_visits.reset_index(drop=True)\n",
    "rating_visits.columns = ['users','ratingCount']\n",
    "rating_visits = rating_visits.sort_values(by=['users'], ascending=False)\n",
    "rating_visits.head(20)"
   ]
  },
  {
   "cell_type": "markdown",
   "metadata": {},
   "source": [
    "There is a total of 25606 users in the dataset that have rated only once. Similarly, 6850 users have rated twice and 3183 users that rated thrice."
   ]
  },
  {
   "cell_type": "code",
   "execution_count": 7,
   "metadata": {},
   "outputs": [
    {
     "data": {
      "text/plain": [
       "businessId\n",
       "1234    3\n",
       "899     3\n",
       "169     3\n",
       "898     3\n",
       "1764    3\n",
       "1172    3\n",
       "663     3\n",
       "409     3\n",
       "2142    3\n",
       "178     3\n",
       "dtype: int64"
      ]
     },
     "execution_count": 7,
     "metadata": {},
     "output_type": "execute_result"
    }
   ],
   "source": [
    "#Calculate user-business ratings\n",
    "business_visits = ratings_pd.groupby(['businessId']).size().sort_values(ascending=True)\n",
    "\n",
    "business_visits.head(10)"
   ]
  },
  {
   "cell_type": "markdown",
   "metadata": {},
   "source": [
    "Total of 3 users visited restaurants 1234, 899, 169 ... "
   ]
  },
  {
   "cell_type": "code",
   "execution_count": 8,
   "metadata": {},
   "outputs": [
    {
     "data": {
      "text/plain": [
       "businessId\n",
       "660      604\n",
       "999      632\n",
       "36       656\n",
       "87       677\n",
       "2203     803\n",
       "198      818\n",
       "1074     902\n",
       "330     1101\n",
       "459     1265\n",
       "1709    1477\n",
       "dtype: int64"
      ]
     },
     "execution_count": 8,
     "metadata": {},
     "output_type": "execute_result"
    }
   ],
   "source": [
    "business_visits.tail(10)"
   ]
  },
  {
   "cell_type": "markdown",
   "metadata": {},
   "source": [
    "Total of 1477 users visited restaurant 1079. Similarly, a total of 1265 and 1101 users visited restaurant 459 and 330 ..."
   ]
  },
  {
   "cell_type": "code",
   "execution_count": 9,
   "metadata": {},
   "outputs": [
    {
     "name": "stdout",
     "output_type": "stream",
     "text": [
      "Ratings Dataset is : 99.82% Sparse\n"
     ]
    }
   ],
   "source": [
    "#pivot dataframe userId as columns and businessId as columns\n",
    "ratings_df = ratings_pd.pivot(index = 'userId', columns ='businessId', values = 'stars').fillna(0)\n",
    "ratings_df['userId'] = ratings_df.index\n",
    "\n",
    "#Convert ratings dataframe to matrix\n",
    "rating_matrix = ratings_df.values\n",
    "\n",
    "#Check how sparse dataset is\n",
    "sparsity = isSparse(rating_matrix)\n",
    "print('Ratings Dataset is : {:.2f}% Sparse'.format(sparsity))"
   ]
  },
  {
   "cell_type": "markdown",
   "metadata": {},
   "source": [
    "We are working with a very sparse dataset. One of the reason data is sparse could be once the user finds restaurants that cater according to their taste most of them stick with the same restaurant.\n",
    "\n",
    "To overcome the problem, we will be using baseline prediction method using dataset average and user/business bias."
   ]
  },
  {
   "cell_type": "code",
   "execution_count": 10,
   "metadata": {},
   "outputs": [],
   "source": [
    "#Entire dataset mean\n",
    "rawmean = ratings_pd['stars'].mean()\n",
    "\n",
    "#Raw mean for user - user bias\n",
    "user_rawmean = pd.DataFrame(ratings_pd.groupby(['userId'])['stars'].mean() - rawmean)\n",
    "user_rawmean.columns = ['userBias']\n",
    "user_rawmean['userId'] = user_rawmean.index\n",
    "user_rawmean = user_rawmean.reset_index(drop=True)\n",
    "\n",
    "#Raw mean for business - business bias\n",
    "business_rawmean = pd.DataFrame(ratings_pd.groupby(['businessId'])['stars'].mean() - rawmean)\n",
    "business_rawmean.columns = ['businessBias']\n",
    "business_rawmean['businessId'] = business_rawmean.index\n",
    "business_rawmean = business_rawmean.reset_index(drop=True)"
   ]
  },
  {
   "cell_type": "code",
   "execution_count": 11,
   "metadata": {},
   "outputs": [],
   "source": [
    "#Convert user X business matrix to rows format\n",
    "#Each rows with have user, business, rating\n",
    "predicted_ratings_CtoR = pd.melt(ratings_df, id_vars='userId')\n",
    "predicted_ratings_CtoR.columns = ['userId', 'businessId','stars']\n",
    "predicted_ratings_CtoR['businessId'] = predicted_ratings_CtoR['businessId'].astype(int)\n",
    "\n",
    "#Attach baseline average ratings\n",
    "predicted_ratings_CtoR = predicted_ratings_CtoR.merge(user_rawmean, how='left', left_on=['userId'], right_on = ['userId'])\n",
    "predicted_ratings_CtoR = predicted_ratings_CtoR.merge(business_rawmean, how='left', \n",
    "                                                      left_on=['businessId'], \n",
    "                                                      right_on = ['businessId'])\n",
    "\n",
    "#Update ratings for only missing values\n",
    "predicted_ratings_CtoR['stars'] = np.where(predicted_ratings_CtoR['stars'] == 0, \n",
    "                      rawmean + predicted_ratings_CtoR['userBias'] + predicted_ratings_CtoR['businessBias'], \n",
    "                      predicted_ratings_CtoR['stars'])\n",
    "\n",
    "#Since ratings are between 1 and 5 change accordingly\n",
    "predicted_ratings_CtoR.loc[predicted_ratings_CtoR['stars'] < 1, 'stars'] = 1\n",
    "predicted_ratings_CtoR.loc[predicted_ratings_CtoR['stars'] > 5, 'stars'] = 5"
   ]
  },
  {
   "cell_type": "code",
   "execution_count": 12,
   "metadata": {},
   "outputs": [
    {
     "data": {
      "text/plain": [
       "129"
      ]
     },
     "execution_count": 12,
     "metadata": {},
     "output_type": "execute_result"
    }
   ],
   "source": [
    "#Convert predicted_ratings_CtoR back to user X business matrix\n",
    "ratings_df = predicted_ratings_CtoR.pivot(index = 'userId', columns ='businessId', values = 'stars').fillna(0)\n",
    "\n",
    "#remove predicted_ratings_CtoR dataframe to free up memory\n",
    "del [[predicted_ratings_CtoR]]\n",
    "gc.collect()"
   ]
  },
  {
   "cell_type": "markdown",
   "metadata": {},
   "source": [
    "#### Matrix Factorization via Singular Value Decomposition\n",
    "\n",
    "In simple terms _Matrix factorization_ is a process of breaking down a matrix into product of multiple matrices. There are many different ways to factor matrices, for the scope of the project we will be using singular value decomposition and generate recommendations.\n",
    "\n",
    "$$\\begin{equation}\n",
    "R = U\\Sigma V^{T}\n",
    "\\end{equation}$$\n",
    "\n",
    "where R is users's ratings matrix, $U$ is the user \"features\" matrix, $\\Sigma$ is the diagonal matrix of singular values (essentially weights), and $V^{T}$ is the restaurant \"features\" matrix. $U$ and $V^{T}$ are orthogonal, and represent different things. $U$ represents how much users \"like\" each feature and $V^{T}$ represents how relevant each feature is to each restaurant.\n",
    "\n",
    "To get the lower rank approximation, we take these matrices and keep only the top $k$ features, which we think of as the underlying tastes and preferences vectors."
   ]
  },
  {
   "cell_type": "code",
   "execution_count": 13,
   "metadata": {},
   "outputs": [
    {
     "name": "stdout",
     "output_type": "stream",
     "text": [
      "RMSE : 0.000000\n"
     ]
    }
   ],
   "source": [
    "#Compute SVD martix factorization\n",
    "rating_matrix = ratings_df.values\n",
    "U, sigma, Vt = np.linalg.svd(rating_matrix, full_matrices=False)\n",
    "\n",
    "#Get diagonal sigma\n",
    "sigma_diag = np.diag(sigma)\n",
    "\n",
    "#Recalculate ratings\n",
    "predicted_ratings = np.dot(np.dot(U, sigma_diag), Vt)\n",
    "\n",
    "rmse = mean_squared_error(predicted_ratings, rating_matrix)**0.5\n",
    "print('RMSE : {:.6f}'.format(rmse))"
   ]
  },
  {
   "cell_type": "markdown",
   "metadata": {},
   "source": [
    "Root mean square error, 0.0 makes sense because we have used the raw-average method to fill in missing values and matrix factorization did not result in much variance. In other words, the difference between predicted(SVD) and observed(raw-average) is very small. Let's see if reducing some dimensions would yield variance.\n",
    "\n",
    "#### Dimension Reduction"
   ]
  },
  {
   "cell_type": "code",
   "execution_count": 14,
   "metadata": {},
   "outputs": [
    {
     "name": "stdout",
     "output_type": "stream",
     "text": [
      "RMSE : 0.003 Frobenius Norm : 26.901 k-Value reduced by : 0 Singlar Value Ratio : 1.0\n",
      "RMSE : 0.011 Frobenius Norm : 103.281 k-Value reduced by : 1335 Singlar Value Ratio : 1.0\n",
      "RMSE : 0.021 Frobenius Norm : 203.767 k-Value reduced by : 1931 Singlar Value Ratio : 1.0\n",
      "RMSE : 0.027 Frobenius Norm : 263.275 k-Value reduced by : 2121 Singlar Value Ratio : 1.0\n",
      "RMSE : 0.031 Frobenius Norm : 295.559 k-Value reduced by : 2183 Singlar Value Ratio : 1.0\n",
      "RMSE : 0.032 Frobenius Norm : 305.027 k-Value reduced by : 2195 Singlar Value Ratio : 1.0\n",
      "RMSE : 0.032 Frobenius Norm : 307.623 k-Value reduced by : 2197 Singlar Value Ratio : 1.0\n"
     ]
    }
   ],
   "source": [
    "#Lets loop through reducing k value\n",
    "r, c = rating_matrix.shape\n",
    "k = min(r, c)\n",
    "for i in range(5, 40, 5):\n",
    "\n",
    "    # take columns less than k from U\n",
    "    U_p = U[:,:k]\n",
    "    # take rows less than k from V\n",
    "    V_p = Vt[:k,:]\n",
    "    # build the new S matrix with top k diagnal elements\n",
    "    S_p = np.zeros((k, k), int)\n",
    "    for j in range(k):\n",
    "        S_p[j][j] = sigma[j]\n",
    "    \n",
    "    #Recalculate ratings\n",
    "    predicted_ratings = np.dot(np.dot(U_p, S_p), V_p)\n",
    "\n",
    "    #Calculate error difference\n",
    "    diffM = rating_matrix - predicted_ratings\n",
    "    \n",
    "    #Frobenius Norm\n",
    "    frobeniusNorm = np.linalg.norm(diffM, 'fro')\n",
    "    \n",
    "    #Singular value ratio has to be 90%\n",
    "    if (k == min(r, c)):\n",
    "        sigma_ratio = round(sum(sigma**2)/sum(sigma**2),3)\n",
    "    else:\n",
    "        less_singular_values = sigma[ np.where( sigma >= i ) ]\n",
    "        sigma_ratio = round(sum(less_singular_values**2)/sum(sigma**2),3)\n",
    "    \n",
    "    \n",
    "    #RMSE\n",
    "    rmse = mean_squared_error(predicted_ratings, rating_matrix)**0.5\n",
    "    print(\"RMSE : \" + str(round(rmse,3)) + \n",
    "          ' Frobenius Norm : ' + str(round(frobeniusNorm,3)) + \n",
    "          ' k-Value reduced by : ' + str(min(r, c) - k) + \n",
    "          ' Singlar Value Ratio : ' + str(sigma_ratio)\n",
    "         )\n",
    "       \n",
    "    #Eliminate rows with low sigma value\n",
    "    k = min(r, c) - sigma[ np.where( sigma < i ) ].size"
   ]
  },
  {
   "cell_type": "code",
   "execution_count": 15,
   "metadata": {},
   "outputs": [],
   "source": [
    "#Number of dimensions\n",
    "k = min(r, c) - 1931\n",
    "# take columns less than k from U\n",
    "U_p = U[:,:k]\n",
    "# take rows less than k from V\n",
    "V_p = Vt[:k,:]\n",
    "# build the new S matrix with top k diagnal elements\n",
    "S_p = np.zeros((k, k), int)\n",
    "for j in range(k):\n",
    "    S_p[j][j] = sigma[j]\n",
    "\n",
    "#Recalculate ratings\n",
    "predicted_ratings = np.dot(np.dot(U_p, S_p), V_p) "
   ]
  },
  {
   "cell_type": "markdown",
   "metadata": {},
   "source": [
    "Single Value Ratio is high even when we remove 1931 dimensions is because the dataset has 2.2K restaurants and little over 42.2K users rating them. Also, using the baseline raw averages method has a direct influence on it."
   ]
  },
  {
   "cell_type": "code",
   "execution_count": 16,
   "metadata": {},
   "outputs": [],
   "source": [
    "#Apply visited column to original rating dataframe\n",
    "ratings_pd['visited'] = 1"
   ]
  },
  {
   "cell_type": "code",
   "execution_count": 17,
   "metadata": {},
   "outputs": [],
   "source": [
    "#Apply visited column to predicted values dataset\n",
    "predicted_ratings = pd.DataFrame(predicted_ratings)\n",
    "predicted_ratings['userId'] = predicted_ratings.index + 1\n",
    "predicted_ratings_CtoR = pd.melt(predicted_ratings, id_vars='userId')\n",
    "predicted_ratings_CtoR.columns = ['userId', 'businessId','predict']\n",
    "\n",
    "#During conversion businessId starts from zero, so add 1\n",
    "predicted_ratings_CtoR['businessId'] = predicted_ratings_CtoR['businessId'] + 1\n",
    "predicted_ratings_CtoR['businessId'] = predicted_ratings_CtoR['businessId'].astype(int)\n",
    "\n",
    "#Join on ratings dataframe apply visited flag\n",
    "predicted_ratings_CtoR = predicted_ratings_CtoR.merge(ratings_pd, how='left', \n",
    "                                                      left_on=['userId','businessId'], \n",
    "                                                      right_on = ['userId','businessId'])\n",
    "#Remove unused columns\n",
    "predicted_ratings_CtoR = predicted_ratings_CtoR[['businessId', 'userId', 'predict','visited']]"
   ]
  },
  {
   "cell_type": "code",
   "execution_count": 18,
   "metadata": {},
   "outputs": [],
   "source": [
    "#Create user profile\n",
    "#User 32526 has rated about 466 resturants\n",
    "sample_data = predicted_ratings_CtoR[(predicted_ratings_CtoR['userId'] == 32526)]\n",
    "\n",
    "#Fill non-visited restaurantswith zero value\n",
    "sample_data = sample_data.fillna(0)\n",
    "\n",
    "#Split user dataset into visited and non-visited datasets\n",
    "sample_visited = sample_data[sample_data['visited'] ==1]\n",
    "sample_not_visited = sample_data[sample_data['visited'] ==0]\n",
    "\n",
    "#Select random non-visited restaurants\n",
    "#if visited restaurants are higher than non-visited use non-visited count else visited count \n",
    "random_count = sample_not_visited.shape[0] if sample_visited.shape[0] > sample_not_visited.shape[0] else sample_visited.shape[0]\n",
    "\n",
    "#Get ramdom sample of non-visited restaurants and split into 2 sets\n",
    "random_not_visited = sample_not_visited.sample(n=random_count, random_state=2)\n",
    "random_not_visited1, random_not_visited2 = train_test_split(random_not_visited, test_size =0.2, random_state=0)\n",
    "\n",
    "#apply one set to visited restaurants so we get good mix of visited and non-visited restaurants in training dataset\n",
    "train_data = sample_visited.append(random_not_visited1)\n",
    "test_data = random_not_visited2"
   ]
  },
  {
   "cell_type": "code",
   "execution_count": 19,
   "metadata": {},
   "outputs": [
    {
     "data": {
      "text/plain": [
       "0"
      ]
     },
     "execution_count": 19,
     "metadata": {},
     "output_type": "execute_result"
    }
   ],
   "source": [
    "#Clean up dataframe it has 93+ million records\n",
    "del [[predicted_ratings_CtoR]]\n",
    "gc.collect()"
   ]
  },
  {
   "cell_type": "code",
   "execution_count": 20,
   "metadata": {},
   "outputs": [],
   "source": [
    "#Apply latent features to train and test datasets\n",
    "#In this we will be using business features 'is_open','review_count','stars' - critic rating\n",
    "train_data = pd.merge(train_data[['businessId','predict','visited']],\n",
    "                     business_pd[['businessId','is_open','review_count','stars']],\n",
    "                     how='left', on='businessId')\n",
    "train_data = train_data.fillna(0)\n",
    "rest_train_X = train_data[['predict','is_open','review_count','stars']]\n",
    "rest_train_y = train_data[['visited']]\n",
    "\n",
    "test_data = pd.merge(test_data[['businessId','predict','visited']],\n",
    "                     business_pd[['businessId','is_open','review_count','stars']],\n",
    "                     how='left', on='businessId')\n",
    "test_data = test_data.fillna(0)\n",
    "rest_test_X = test_data[['predict','is_open','review_count','stars']]\n",
    "rest_test_y = test_data[['visited']]"
   ]
  },
  {
   "cell_type": "markdown",
   "metadata": {},
   "source": [
    "Sample dataset is split into _training_ and _test_ datasets. Test dataset contains restaurants user has not visited. Training dataset contains combination of restaurants user has visited and not visited."
   ]
  },
  {
   "cell_type": "code",
   "execution_count": 21,
   "metadata": {},
   "outputs": [
    {
     "data": {
      "text/html": [
       "<div>\n",
       "<style scoped>\n",
       "    .dataframe tbody tr th:only-of-type {\n",
       "        vertical-align: middle;\n",
       "    }\n",
       "\n",
       "    .dataframe tbody tr th {\n",
       "        vertical-align: top;\n",
       "    }\n",
       "\n",
       "    .dataframe thead th {\n",
       "        text-align: right;\n",
       "    }\n",
       "</style>\n",
       "<table border=\"1\" class=\"dataframe\">\n",
       "  <thead>\n",
       "    <tr style=\"text-align: right;\">\n",
       "      <th></th>\n",
       "      <th>businessId</th>\n",
       "      <th>predict</th>\n",
       "      <th>visited</th>\n",
       "      <th>is_open</th>\n",
       "      <th>review_count</th>\n",
       "      <th>stars</th>\n",
       "    </tr>\n",
       "  </thead>\n",
       "  <tbody>\n",
       "    <tr>\n",
       "      <th>446</th>\n",
       "      <td>2089</td>\n",
       "      <td>4.874525</td>\n",
       "      <td>1.0</td>\n",
       "      <td>1</td>\n",
       "      <td>17</td>\n",
       "      <td>4.0</td>\n",
       "    </tr>\n",
       "    <tr>\n",
       "      <th>58</th>\n",
       "      <td>296</td>\n",
       "      <td>5.037082</td>\n",
       "      <td>1.0</td>\n",
       "      <td>0</td>\n",
       "      <td>50</td>\n",
       "      <td>3.5</td>\n",
       "    </tr>\n",
       "    <tr>\n",
       "      <th>531</th>\n",
       "      <td>1442</td>\n",
       "      <td>3.597120</td>\n",
       "      <td>0.0</td>\n",
       "      <td>1</td>\n",
       "      <td>13</td>\n",
       "      <td>3.5</td>\n",
       "    </tr>\n",
       "    <tr>\n",
       "      <th>793</th>\n",
       "      <td>1337</td>\n",
       "      <td>3.552701</td>\n",
       "      <td>0.0</td>\n",
       "      <td>1</td>\n",
       "      <td>50</td>\n",
       "      <td>3.5</td>\n",
       "    </tr>\n",
       "    <tr>\n",
       "      <th>341</th>\n",
       "      <td>1547</td>\n",
       "      <td>4.024612</td>\n",
       "      <td>1.0</td>\n",
       "      <td>1</td>\n",
       "      <td>78</td>\n",
       "      <td>3.0</td>\n",
       "    </tr>\n",
       "    <tr>\n",
       "      <th>62</th>\n",
       "      <td>305</td>\n",
       "      <td>4.115530</td>\n",
       "      <td>1.0</td>\n",
       "      <td>1</td>\n",
       "      <td>253</td>\n",
       "      <td>4.0</td>\n",
       "    </tr>\n",
       "    <tr>\n",
       "      <th>503</th>\n",
       "      <td>218</td>\n",
       "      <td>3.944109</td>\n",
       "      <td>0.0</td>\n",
       "      <td>1</td>\n",
       "      <td>3</td>\n",
       "      <td>3.5</td>\n",
       "    </tr>\n",
       "    <tr>\n",
       "      <th>667</th>\n",
       "      <td>1820</td>\n",
       "      <td>2.153302</td>\n",
       "      <td>0.0</td>\n",
       "      <td>1</td>\n",
       "      <td>8</td>\n",
       "      <td>2.0</td>\n",
       "    </tr>\n",
       "    <tr>\n",
       "      <th>764</th>\n",
       "      <td>369</td>\n",
       "      <td>4.948525</td>\n",
       "      <td>0.0</td>\n",
       "      <td>0</td>\n",
       "      <td>3</td>\n",
       "      <td>4.5</td>\n",
       "    </tr>\n",
       "    <tr>\n",
       "      <th>508</th>\n",
       "      <td>853</td>\n",
       "      <td>3.073227</td>\n",
       "      <td>0.0</td>\n",
       "      <td>0</td>\n",
       "      <td>5</td>\n",
       "      <td>3.0</td>\n",
       "    </tr>\n",
       "  </tbody>\n",
       "</table>\n",
       "</div>"
      ],
      "text/plain": [
       "     businessId   predict  visited  is_open  review_count  stars\n",
       "446        2089  4.874525      1.0        1            17    4.0\n",
       "58          296  5.037082      1.0        0            50    3.5\n",
       "531        1442  3.597120      0.0        1            13    3.5\n",
       "793        1337  3.552701      0.0        1            50    3.5\n",
       "341        1547  4.024612      1.0        1            78    3.0\n",
       "62          305  4.115530      1.0        1           253    4.0\n",
       "503         218  3.944109      0.0        1             3    3.5\n",
       "667        1820  2.153302      0.0        1             8    2.0\n",
       "764         369  4.948525      0.0        0             3    4.5\n",
       "508         853  3.073227      0.0        0             5    3.0"
      ]
     },
     "execution_count": 21,
     "metadata": {},
     "output_type": "execute_result"
    }
   ],
   "source": [
    "train_data.sample(n=10)"
   ]
  },
  {
   "cell_type": "markdown",
   "metadata": {},
   "source": [
    "#### Logistic Regression"
   ]
  },
  {
   "cell_type": "code",
   "execution_count": 22,
   "metadata": {},
   "outputs": [
    {
     "name": "stdout",
     "output_type": "stream",
     "text": [
      "Optimization terminated successfully.\n",
      "         Current function value: 0.654580\n",
      "         Iterations 6\n",
      "                           Logit Regression Results                           \n",
      "==============================================================================\n",
      "Dep. Variable:                visited   No. Observations:                  586\n",
      "Model:                          Logit   Df Residuals:                      582\n",
      "Method:                           MLE   Df Model:                            3\n",
      "Date:                Wed, 18 Jul 2018   Pseudo R-squ.:                 0.04636\n",
      "Time:                        18:32:05   Log-Likelihood:                -383.58\n",
      "converged:                       True   LL-Null:                       -402.23\n",
      "                                        LLR p-value:                 3.992e-08\n",
      "================================================================================\n",
      "                   coef    std err          z      P>|z|      [0.025      0.975]\n",
      "--------------------------------------------------------------------------------\n",
      "predict          0.4739      0.140      3.385      0.001       0.200       0.748\n",
      "is_open         -0.2978      0.187     -1.590      0.112      -0.665       0.069\n",
      "review_count     0.0052      0.001      4.143      0.000       0.003       0.008\n",
      "stars           -0.4796      0.155     -3.096      0.002      -0.783      -0.176\n",
      "================================================================================\n"
     ]
    }
   ],
   "source": [
    "#Lets test how logit regression works on training dataset\n",
    "#Split training dataset into training and validation datasets\n",
    "tr_df, val_df = train_test_split(train_data, test_size =0.3, random_state=0)\n",
    "\n",
    "#Create training dataset\n",
    "tr_X = tr_df[['predict','is_open','review_count','stars']]\n",
    "tr_y = tr_df[['visited']]\n",
    "\n",
    "#Create validation dataset\n",
    "val_X = val_df[['predict','is_open','review_count','stars']]\n",
    "val_y = val_df[['visited']]\n",
    "\n",
    "#Build logit model\n",
    "logit_model=sm.Logit(tr_y,tr_X)\n",
    "result=logit_model.fit()\n",
    "print(result.summary())"
   ]
  },
  {
   "cell_type": "code",
   "execution_count": 23,
   "metadata": {},
   "outputs": [
    {
     "name": "stdout",
     "output_type": "stream",
     "text": [
      "Accuracy of logistic regression classifier on validation set: 0.60\n"
     ]
    }
   ],
   "source": [
    "#Sperate dependent and independent variables\n",
    "predictors = ['predict','is_open','review_count','stars']\n",
    "outcome = ['visited']\n",
    "\n",
    "#Using the model get predictions\n",
    "logval = LogisticRegression()\n",
    "logval.fit(tr_df[predictors], tr_df[outcome].values.ravel())\n",
    "\n",
    "#Prediction\n",
    "y_val = logval.predict(val_df[predictors])\n",
    "print('Accuracy of logistic regression classifier on validation set: {:.2f}'.format(logval.score(val_df[predictors], \n",
    "                                                                                           val_df[outcome].values.ravel())))"
   ]
  },
  {
   "cell_type": "markdown",
   "metadata": {},
   "source": [
    "#### Cross Validation"
   ]
  },
  {
   "cell_type": "code",
   "execution_count": 24,
   "metadata": {},
   "outputs": [
    {
     "name": "stdout",
     "output_type": "stream",
     "text": [
      "10-fold cross validation average accuracy: 0.587\n"
     ]
    }
   ],
   "source": [
    "#Cross Validation\n",
    "kfold = model_selection.KFold(n_splits=10, random_state=0)\n",
    "modelCV = LogisticRegression()\n",
    "scoring = 'accuracy'\n",
    "results = model_selection.cross_val_score(modelCV, \n",
    "                                          tr_df[predictors], \n",
    "                                          tr_df[outcome].values.ravel(), \n",
    "                                          cv=kfold, \n",
    "                                          scoring=scoring)\n",
    "print(\"10-fold cross validation average accuracy: %.3f\" % (results.mean()))"
   ]
  },
  {
   "cell_type": "markdown",
   "metadata": {},
   "source": [
    "Cross validation attempts to avoid overfitting while still producing a prediction for each observation dataset. We are using 10-fold Cross-Validation to train our Logistic Regression model."
   ]
  },
  {
   "cell_type": "markdown",
   "metadata": {},
   "source": [
    "#### Confusion Matrix"
   ]
  },
  {
   "cell_type": "code",
   "execution_count": 25,
   "metadata": {},
   "outputs": [
    {
     "name": "stdout",
     "output_type": "stream",
     "text": [
      "[[ 44  69]\n",
      " [ 32 107]]\n"
     ]
    }
   ],
   "source": [
    "#Confusion Matrix\n",
    "confusion_matrix = confusion_matrix(val_y, y_val)\n",
    "tp = confusion_matrix[1][1]\n",
    "fp = confusion_matrix[0][1]\n",
    "fn = confusion_matrix[1][0]\n",
    "tn = confusion_matrix[0][0]\n",
    "print(confusion_matrix)"
   ]
  },
  {
   "cell_type": "code",
   "execution_count": 26,
   "metadata": {},
   "outputs": [
    {
     "data": {
      "image/png": "[encoded data removed]",
      "text/plain": [
       "<Figure size 432x288 with 1 Axes>"
      ]
     },
     "metadata": {},
     "output_type": "display_data"
    }
   ],
   "source": [
    "plt.clf()\n",
    "plt.imshow(confusion_matrix, interpolation='nearest', cmap=plt.cm.Wistia)\n",
    "classNames = ['Negative','Positive']\n",
    "plt.title('User:32526 Visited or Not Visited Confusion Matrix - Validation Data')\n",
    "plt.ylabel('True label')\n",
    "plt.xlabel('Predicted label')\n",
    "tick_marks = np.arange(len(classNames))\n",
    "plt.xticks(tick_marks, classNames, rotation=45)\n",
    "plt.yticks(tick_marks, classNames)\n",
    "s = [['TN','FP'], ['FN', 'TP']]\n",
    "for i in range(2):\n",
    "    for j in range(2):\n",
    "        plt.text(j,i, str(s[i][j])+\" = \"+str(confusion_matrix[i][j]))\n",
    "plt.show()"
   ]
  },
  {
   "cell_type": "markdown",
   "metadata": {},
   "source": [
    "User 32526,\n",
    "\n",
    "- Visited 107 restaurants and model predicted correctly, True Positives.\n",
    "- The user did not visit 69 restaurants and model predicted as user visited them, False Positives.\n",
    "- The user visited 32 restaurants and model predicted as user not visit them, False Negatives.\n",
    "- Finally, the user did not visit 44 restaurants and model predicted correctly, True Negatives.\n",
    "\n",
    "#### Precision, Recall, F-measure and support\n",
    "\n",
    "The precision is the ratio \n",
    "$$\\begin{equation}\n",
    "\\frac{tp}{(tp + fp)}\n",
    "\\end{equation}$$ \n",
    "\n",
    "where tp is the number of true positives and fp the number of false positives. The precision is intuitively the ability of the classifier to not label a sample as positive if it is negative.\n",
    "\n",
    "The recall is the ratio \n",
    "$$\\begin{equation}\n",
    "\\frac{tp}{(tp + fn)}\n",
    "\\end{equation}$$\n",
    "\n",
    "where tp is the number of true positives and fn the number of false negatives. The recall is intuitively the ability of the classifier to find all the positive samples.\n",
    "\n",
    "The F-beta score can be interpreted as a weighted harmonic mean of the precision and recall, where an F-beta score reaches its best value at 1 and worst score at 0.\n",
    "\n",
    "The F-beta score weights the recall more than the precision by a factor of beta. beta = 1.0 means recall and precision are equally important.\n"
   ]
  },
  {
   "cell_type": "code",
   "execution_count": 27,
   "metadata": {},
   "outputs": [
    {
     "name": "stdout",
     "output_type": "stream",
     "text": [
      "             precision    recall  f1-score   support\n",
      "\n",
      "        0.0       0.58      0.39      0.47       113\n",
      "        1.0       0.61      0.77      0.68       139\n",
      "\n",
      "avg / total       0.59      0.60      0.58       252\n",
      "\n"
     ]
    }
   ],
   "source": [
    "print(classification_report(val_y, y_val))"
   ]
  },
  {
   "cell_type": "markdown",
   "metadata": {},
   "source": [
    "#### ROC Curve"
   ]
  },
  {
   "cell_type": "code",
   "execution_count": 28,
   "metadata": {},
   "outputs": [
    {
     "data": {
      "image/png": "[encoded data removed]",
      "text/plain": [
       "<Figure size 432x288 with 1 Axes>"
      ]
     },
     "metadata": {},
     "output_type": "display_data"
    }
   ],
   "source": [
    "logit_roc_auc = roc_auc_score(val_y, logval.predict(val_X))\n",
    "fpr, tpr, thresholds = roc_curve(val_y, logval.predict_proba(val_X)[:,1])\n",
    "plt.figure()\n",
    "plt.plot(fpr, tpr, label='Logistic Regression (area = %0.2f)' % logit_roc_auc)\n",
    "plt.plot([0, 1], [0, 1],'r--')\n",
    "plt.xlim([0.0, 0.85])\n",
    "plt.ylim([0.0, 0.85])\n",
    "plt.xlabel('False Positive Rate')\n",
    "plt.ylabel('True Positive Rate')\n",
    "plt.title('Receiver operating characteristic')\n",
    "plt.legend(loc=\"lower right\")\n",
    "plt.savefig('Log_ROC')\n",
    "plt.show()"
   ]
  },
  {
   "cell_type": "markdown",
   "metadata": {},
   "source": [
    "#### Model Interpretation\n",
    "- Precision of the model is 59%, the rate at which a positive prediction is accually positive.\n",
    "- Recall of the model is also 60%, the rate at which true positive outcome predicted from the total positive outcomes reported.\n",
    "- Precision and Recall are almost same, this means that our algorithm has classified an equal amount of visits as false positives, as it classified false negatives. We can take this as positive sign, model generalizes well.\n",
    "- The average accuracy remains very close to the Logistic Regression model accuracy; hence, we can conclude that our model generalizes well.\n",
    "- ROC suggests tradeoff between sensitivity and specificity is at 0.58. \n",
    "\n",
    "While applying _Logit Model_ to test data, we will use entire _train dataset_ to rebuild model again."
   ]
  },
  {
   "cell_type": "code",
   "execution_count": 29,
   "metadata": {},
   "outputs": [
    {
     "data": {
      "text/html": [
       "<div>\n",
       "<style scoped>\n",
       "    .dataframe tbody tr th:only-of-type {\n",
       "        vertical-align: middle;\n",
       "    }\n",
       "\n",
       "    .dataframe tbody tr th {\n",
       "        vertical-align: top;\n",
       "    }\n",
       "\n",
       "    .dataframe thead th {\n",
       "        text-align: right;\n",
       "    }\n",
       "</style>\n",
       "<table border=\"1\" class=\"dataframe\">\n",
       "  <thead>\n",
       "    <tr style=\"text-align: right;\">\n",
       "      <th></th>\n",
       "      <th>businessId</th>\n",
       "      <th>predict</th>\n",
       "      <th>visited</th>\n",
       "      <th>is_open</th>\n",
       "      <th>review_count</th>\n",
       "      <th>stars</th>\n",
       "    </tr>\n",
       "  </thead>\n",
       "  <tbody>\n",
       "    <tr>\n",
       "      <th>70</th>\n",
       "      <td>2007</td>\n",
       "      <td>3.990812</td>\n",
       "      <td>0.0</td>\n",
       "      <td>1</td>\n",
       "      <td>197</td>\n",
       "      <td>3.5</td>\n",
       "    </tr>\n",
       "    <tr>\n",
       "      <th>33</th>\n",
       "      <td>1030</td>\n",
       "      <td>4.080697</td>\n",
       "      <td>0.0</td>\n",
       "      <td>1</td>\n",
       "      <td>5</td>\n",
       "      <td>4.0</td>\n",
       "    </tr>\n",
       "    <tr>\n",
       "      <th>46</th>\n",
       "      <td>1269</td>\n",
       "      <td>3.565642</td>\n",
       "      <td>0.0</td>\n",
       "      <td>1</td>\n",
       "      <td>7</td>\n",
       "      <td>3.5</td>\n",
       "    </tr>\n",
       "    <tr>\n",
       "      <th>77</th>\n",
       "      <td>370</td>\n",
       "      <td>4.028202</td>\n",
       "      <td>0.0</td>\n",
       "      <td>0</td>\n",
       "      <td>4</td>\n",
       "      <td>4.0</td>\n",
       "    </tr>\n",
       "    <tr>\n",
       "      <th>11</th>\n",
       "      <td>394</td>\n",
       "      <td>3.889240</td>\n",
       "      <td>0.0</td>\n",
       "      <td>1</td>\n",
       "      <td>23</td>\n",
       "      <td>3.5</td>\n",
       "    </tr>\n",
       "    <tr>\n",
       "      <th>15</th>\n",
       "      <td>1001</td>\n",
       "      <td>3.559387</td>\n",
       "      <td>0.0</td>\n",
       "      <td>1</td>\n",
       "      <td>107</td>\n",
       "      <td>3.5</td>\n",
       "    </tr>\n",
       "    <tr>\n",
       "      <th>68</th>\n",
       "      <td>80</td>\n",
       "      <td>4.123171</td>\n",
       "      <td>0.0</td>\n",
       "      <td>0</td>\n",
       "      <td>6</td>\n",
       "      <td>4.0</td>\n",
       "    </tr>\n",
       "    <tr>\n",
       "      <th>12</th>\n",
       "      <td>474</td>\n",
       "      <td>3.059434</td>\n",
       "      <td>0.0</td>\n",
       "      <td>0</td>\n",
       "      <td>9</td>\n",
       "      <td>3.0</td>\n",
       "    </tr>\n",
       "    <tr>\n",
       "      <th>35</th>\n",
       "      <td>1889</td>\n",
       "      <td>3.799094</td>\n",
       "      <td>0.0</td>\n",
       "      <td>1</td>\n",
       "      <td>92</td>\n",
       "      <td>3.5</td>\n",
       "    </tr>\n",
       "    <tr>\n",
       "      <th>43</th>\n",
       "      <td>104</td>\n",
       "      <td>4.805617</td>\n",
       "      <td>0.0</td>\n",
       "      <td>1</td>\n",
       "      <td>11</td>\n",
       "      <td>4.5</td>\n",
       "    </tr>\n",
       "  </tbody>\n",
       "</table>\n",
       "</div>"
      ],
      "text/plain": [
       "    businessId   predict  visited  is_open  review_count  stars\n",
       "70        2007  3.990812      0.0        1           197    3.5\n",
       "33        1030  4.080697      0.0        1             5    4.0\n",
       "46        1269  3.565642      0.0        1             7    3.5\n",
       "77         370  4.028202      0.0        0             4    4.0\n",
       "11         394  3.889240      0.0        1            23    3.5\n",
       "15        1001  3.559387      0.0        1           107    3.5\n",
       "68          80  4.123171      0.0        0             6    4.0\n",
       "12         474  3.059434      0.0        0             9    3.0\n",
       "35        1889  3.799094      0.0        1            92    3.5\n",
       "43         104  4.805617      0.0        1            11    4.5"
      ]
     },
     "execution_count": 29,
     "metadata": {},
     "output_type": "execute_result"
    }
   ],
   "source": [
    "test_data.sample(n=10)"
   ]
  },
  {
   "cell_type": "code",
   "execution_count": 30,
   "metadata": {},
   "outputs": [
    {
     "name": "stdout",
     "output_type": "stream",
     "text": [
      "Optimization terminated successfully.\n",
      "         Current function value: 0.648030\n",
      "         Iterations 6\n",
      "                           Logit Regression Results                           \n",
      "==============================================================================\n",
      "Dep. Variable:                visited   No. Observations:                  838\n",
      "Model:                          Logit   Df Residuals:                      834\n",
      "Method:                           MLE   Df Model:                            3\n",
      "Date:                Wed, 18 Jul 2018   Pseudo R-squ.:                 0.05651\n",
      "Time:                        18:32:05   Log-Likelihood:                -543.05\n",
      "converged:                       True   LL-Null:                       -575.57\n",
      "                                        LLR p-value:                 4.894e-14\n",
      "================================================================================\n",
      "                   coef    std err          z      P>|z|      [0.025      0.975]\n",
      "--------------------------------------------------------------------------------\n",
      "predict          0.4524      0.116      3.895      0.000       0.225       0.680\n",
      "is_open         -0.3043      0.158     -1.932      0.053      -0.613       0.004\n",
      "review_count     0.0057      0.001      5.418      0.000       0.004       0.008\n",
      "stars           -0.4683      0.128     -3.669      0.000      -0.718      -0.218\n",
      "================================================================================\n"
     ]
    }
   ],
   "source": [
    "#Build logit model\n",
    "logit_model=sm.Logit(rest_train_y,rest_train_X)\n",
    "result=logit_model.fit()\n",
    "print(result.summary())"
   ]
  },
  {
   "cell_type": "code",
   "execution_count": 31,
   "metadata": {},
   "outputs": [
    {
     "name": "stdout",
     "output_type": "stream",
     "text": [
      "Accuracy of logistic regression classifier on test set: 0.52\n"
     ]
    }
   ],
   "source": [
    "#Sperate dependent and independent variables\n",
    "predictors = ['predict','is_open','review_count','stars']\n",
    "outcome = ['visited']\n",
    "\n",
    "#Using the model get predictions\n",
    "logreg = LogisticRegression()\n",
    "logreg.fit(train_data[predictors], train_data[outcome].values.ravel())\n",
    "\n",
    "y_pred = logreg.predict(test_data[predictors])\n",
    "print('Accuracy of logistic regression classifier on test set: {:.2f}'.format(logreg.score(test_data[predictors], test_data[outcome].values.ravel())))\n"
   ]
  },
  {
   "cell_type": "code",
   "execution_count": 32,
   "metadata": {},
   "outputs": [
    {
     "data": {
      "text/html": [
       "<div>\n",
       "<style scoped>\n",
       "    .dataframe tbody tr th:only-of-type {\n",
       "        vertical-align: middle;\n",
       "    }\n",
       "\n",
       "    .dataframe tbody tr th {\n",
       "        vertical-align: top;\n",
       "    }\n",
       "\n",
       "    .dataframe thead th {\n",
       "        text-align: right;\n",
       "    }\n",
       "</style>\n",
       "<table border=\"1\" class=\"dataframe\">\n",
       "  <thead>\n",
       "    <tr style=\"text-align: right;\">\n",
       "      <th></th>\n",
       "      <th>businessId</th>\n",
       "      <th>predict</th>\n",
       "      <th>visited</th>\n",
       "      <th>is_open</th>\n",
       "      <th>review_count</th>\n",
       "      <th>stars</th>\n",
       "      <th>suggested</th>\n",
       "    </tr>\n",
       "  </thead>\n",
       "  <tbody>\n",
       "    <tr>\n",
       "      <th>30</th>\n",
       "      <td>1383</td>\n",
       "      <td>3.525367</td>\n",
       "      <td>0.0</td>\n",
       "      <td>1</td>\n",
       "      <td>37</td>\n",
       "      <td>3.0</td>\n",
       "      <td>1.0</td>\n",
       "    </tr>\n",
       "    <tr>\n",
       "      <th>2</th>\n",
       "      <td>1542</td>\n",
       "      <td>3.819152</td>\n",
       "      <td>0.0</td>\n",
       "      <td>1</td>\n",
       "      <td>31</td>\n",
       "      <td>3.5</td>\n",
       "      <td>0.0</td>\n",
       "    </tr>\n",
       "    <tr>\n",
       "      <th>80</th>\n",
       "      <td>1071</td>\n",
       "      <td>4.782329</td>\n",
       "      <td>0.0</td>\n",
       "      <td>1</td>\n",
       "      <td>26</td>\n",
       "      <td>4.5</td>\n",
       "      <td>0.0</td>\n",
       "    </tr>\n",
       "    <tr>\n",
       "      <th>4</th>\n",
       "      <td>2063</td>\n",
       "      <td>4.862076</td>\n",
       "      <td>0.0</td>\n",
       "      <td>1</td>\n",
       "      <td>5</td>\n",
       "      <td>4.5</td>\n",
       "      <td>0.0</td>\n",
       "    </tr>\n",
       "    <tr>\n",
       "      <th>8</th>\n",
       "      <td>1126</td>\n",
       "      <td>3.325200</td>\n",
       "      <td>0.0</td>\n",
       "      <td>1</td>\n",
       "      <td>50</td>\n",
       "      <td>3.0</td>\n",
       "      <td>1.0</td>\n",
       "    </tr>\n",
       "    <tr>\n",
       "      <th>56</th>\n",
       "      <td>821</td>\n",
       "      <td>3.516695</td>\n",
       "      <td>0.0</td>\n",
       "      <td>1</td>\n",
       "      <td>30</td>\n",
       "      <td>3.5</td>\n",
       "      <td>0.0</td>\n",
       "    </tr>\n",
       "    <tr>\n",
       "      <th>29</th>\n",
       "      <td>1778</td>\n",
       "      <td>3.557304</td>\n",
       "      <td>0.0</td>\n",
       "      <td>1</td>\n",
       "      <td>150</td>\n",
       "      <td>3.5</td>\n",
       "      <td>1.0</td>\n",
       "    </tr>\n",
       "    <tr>\n",
       "      <th>27</th>\n",
       "      <td>2153</td>\n",
       "      <td>2.979451</td>\n",
       "      <td>0.0</td>\n",
       "      <td>1</td>\n",
       "      <td>73</td>\n",
       "      <td>2.5</td>\n",
       "      <td>1.0</td>\n",
       "    </tr>\n",
       "    <tr>\n",
       "      <th>74</th>\n",
       "      <td>1226</td>\n",
       "      <td>3.785422</td>\n",
       "      <td>0.0</td>\n",
       "      <td>1</td>\n",
       "      <td>23</td>\n",
       "      <td>3.5</td>\n",
       "      <td>0.0</td>\n",
       "    </tr>\n",
       "    <tr>\n",
       "      <th>38</th>\n",
       "      <td>1018</td>\n",
       "      <td>3.025002</td>\n",
       "      <td>0.0</td>\n",
       "      <td>1</td>\n",
       "      <td>38</td>\n",
       "      <td>3.0</td>\n",
       "      <td>0.0</td>\n",
       "    </tr>\n",
       "  </tbody>\n",
       "</table>\n",
       "</div>"
      ],
      "text/plain": [
       "    businessId   predict  visited  is_open  review_count  stars  suggested\n",
       "30        1383  3.525367      0.0        1            37    3.0        1.0\n",
       "2         1542  3.819152      0.0        1            31    3.5        0.0\n",
       "80        1071  4.782329      0.0        1            26    4.5        0.0\n",
       "4         2063  4.862076      0.0        1             5    4.5        0.0\n",
       "8         1126  3.325200      0.0        1            50    3.0        1.0\n",
       "56         821  3.516695      0.0        1            30    3.5        0.0\n",
       "29        1778  3.557304      0.0        1           150    3.5        1.0\n",
       "27        2153  2.979451      0.0        1            73    2.5        1.0\n",
       "74        1226  3.785422      0.0        1            23    3.5        0.0\n",
       "38        1018  3.025002      0.0        1            38    3.0        0.0"
      ]
     },
     "execution_count": 32,
     "metadata": {},
     "output_type": "execute_result"
    }
   ],
   "source": [
    "test_data['suggested'] = y_pred\n",
    "test_data[test_data['is_open']==1].sample(n=10, random_state=10)"
   ]
  },
  {
   "cell_type": "markdown",
   "metadata": {},
   "source": [
    "#### Conclusion\n",
    "\n",
    "- The model suggests user may visit restaurants with _Latent Features_.\n",
    "- Recommender systems benefit businesses not only by suggesting similarity but also diversity to users.\n",
    "- Matrices take a large amount of memory, to make memory available for downstream processing we have dropped data frames couple of times. In a real-world scenario, we could save it to the disk.\n",
    "- To replicate the same output on every execution, we have hard-coded random state value.\n",
    "- Dataset contains may other business features including, kids-friendly, parking, cuisine type, etc. Using these features we could expand the current model and build full recommender system.\n",
    "\n",
    "\n",
    "#### References\n",
    "\n",
    "- https://www.youtube.com/watch?v=eZZQ3UTn484\n",
    "- https://www.youtube.com/watch?v=0-o9VgOxe9Y&list=PLuKhJYywjDe96T2L0-zXFU5Up2jqXlWI9&index=11\n",
    "- http://dataaspirant.com/2017/04/15/implement-logistic-regression-model-python-binary-classification/\n",
    "- https://towardsdatascience.com/building-a-logistic-regression-in-python-step-by-step-becd4d56c9c8\n",
    "- https://www.ritchieng.com/machine-learning-cross-validation/\n",
    "- https://tatwan.github.io/How-To-Plot-A-Confusion-Matrix-In-Python/\n",
    "- http://scikit-learn.org/stable/index.html\n",
    "- https://stats.stackexchange.com/questions/97412/precision-and-recall-are-equal-when-the-size-is-same\n",
    "- https://www.geeksforgeeks.org/check-given-matrix-sparse-not/\n"
   ]
  }
 ],
 "metadata": {
  "kernelspec": {
   "display_name": "Python 3",
   "language": "python",
   "name": "python3"
  },
  "language_info": {
   "codemirror_mode": {
    "name": "ipython",
    "version": 3
   },
   "file_extension": ".py",
   "mimetype": "text/x-python",
   "name": "python",
   "nbconvert_exporter": "python",
   "pygments_lexer": "ipython3",
   "version": "3.6.6"
  }
 },
 "nbformat": 4,
 "nbformat_minor": 2
}

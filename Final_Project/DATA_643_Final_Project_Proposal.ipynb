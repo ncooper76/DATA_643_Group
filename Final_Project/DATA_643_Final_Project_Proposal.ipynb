{
 "cells": [
  {
   "cell_type": "markdown",
   "metadata": {},
   "source": [
    "### Data 643 Final Project Plan\n",
    "\n",
    "Team Members : Angus Huang, Nathan Cooper, Pavan Akura\n",
    "Date : July 5th 2018\n",
    "\n",
    "#### Background\n",
    "\n",
    "The use of recommender system is very widespread in retail and service industries. These industries usually have big amount of data where retrieving relevant small bit of data are from ocean of data is crucial to the success of the business. The interactive nature of the business with the customers or users make these industries ideal for recommender system. We hope to learn the established practice of such recommender systems and add our own creative flavor in doing so. The restaurant industry is naturally a prime target after the transportation system was disrupted by companies such as Uber, Lyft and Via. \n",
    "\n",
    "#### Motivation\n",
    "\n",
    "From Zagat Ratings and Michelin Stars, to Yelp and Grubhub,  restaurant recommendations are perhaps the [oldest](https://com546termproject.wordpress.com/the-past-19th-20th-centuries/17-2/) and most ubiquitous recommendation area.  Having used movie review data for the previous project, we now want to apply our skills to another area of recommendation that has broad commercial application. Yelp is a digital platform for business reviews with special focus on restaurants and boasts 30 millions monthly unique users. \n",
    "\n",
    "#### Dataset - Yelp Restaurant Dataset\n",
    "\n",
    "We decided to use a set of user ratings for restaurants available at https://kaggle.com/yelp-dataset/yelp-dataset/data#yelp_review.csv. The data consists \n",
    "5,261,668 user-item ratings from 1 to 5 stars, written critiques, and feedback from other users as to whether the comment was useful,cool, or funny. The user and restaurant id’s take the form of hash id’s, so we have to bring in two other csv files to make the id’s human-readable. This data set is 3.53 GB and meets the size requirement for the final and is amenable to a wide range of recommender system methods: collaborative filtering, content-based, or matrix factorization.\n",
    "\n",
    "#### Implementation - Spark and Algorithms \n",
    "\n",
    "We plan to use Apache spark distributed system as our main algorithm processors with python as the language for bridging different platforms. We believe python as a full programming language has a wider adoption in businesses, however Python is not Spark’s native language. Therefore, it can also provide somewhat challenging task of as the all its libraries are developed separately with variety of functions. The main API library between spark and python is pyspark which requires java sdk.  \n",
    "In terms of rating prediction and other recommender system aspects such as serendipity, relevance and diversity, we plan to implement what we have learned so far during the course to build a full recommender system. The algorithms will include SVD and ALS along with performance measure such as RMSE, MAE and confusion matrix. Diversity is a measure we have yet to successfully implement with novel techniques; two-pass methods and aggregate methods.\n",
    "\n",
    "Reference:\n",
    "\n",
    "- https://www.yelp.com/about\n",
    "- http://spark.apache.org/docs/2.1.0/api/python/pyspark.sql.html \n",
    "- Antikacioglu, A., &  Ravi, R. (2017). Post Processing Recommender Systems for Diversity. Retrieved from   https://dl.acm.org/\n",
    "- https://medium.com/@GalarnykMichael/install-spark-on-windows-pyspark-4498a5d8d66c\n",
    "- https://changhsinlee.com/install-pyspark-windows-jupyter/\n",
    "\n",
    "\n"
   ]
  },
  {
   "cell_type": "code",
   "execution_count": null,
   "metadata": {},
   "outputs": [],
   "source": []
  }
 ],
 "metadata": {
  "kernelspec": {
   "display_name": "Python 3",
   "language": "python",
   "name": "python3"
  },
  "language_info": {
   "codemirror_mode": {
    "name": "ipython",
    "version": 3
   },
   "file_extension": ".py",
   "mimetype": "text/x-python",
   "name": "python",
   "nbconvert_exporter": "python",
   "pygments_lexer": "ipython3",
   "version": "3.6.5"
  }
 },
 "nbformat": 4,
 "nbformat_minor": 2
}

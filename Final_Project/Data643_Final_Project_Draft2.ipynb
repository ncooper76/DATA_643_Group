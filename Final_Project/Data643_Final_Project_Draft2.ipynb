{
 "cells": [
  {
   "cell_type": "code",
   "execution_count": 1,
   "metadata": {},
   "outputs": [],
   "source": [
    "#Load libraries and functions\n",
    "import numpy as np\n",
    "import pandas as pd\n",
    "from scipy.sparse.linalg import svds\n",
    "from sklearn.metrics import mean_squared_error\n",
    "import matplotlib.pyplot as plt\n",
    "from sklearn.model_selection import train_test_split\n",
    "import gc\n",
    "import statsmodels.api as sm\n",
    "from sklearn.linear_model import LogisticRegression\n",
    "from sklearn import metrics\n",
    "\n",
    "#Sparsity finction\n",
    "def isSparse(array) :\n",
    "    m, n = array.shape\n",
    "    counter = 0\n",
    "  \n",
    "    # Count number of zeros\n",
    "    # in the matrix\n",
    "    for i in range(0,m) :\n",
    "        for j in range(0,n) :\n",
    "            if (array[i][j] == 0) :\n",
    "                counter = counter + 1\n",
    "  \n",
    "    return (counter * 100 / (m * n))\n"
   ]
  },
  {
   "cell_type": "code",
   "execution_count": 2,
   "metadata": {},
   "outputs": [],
   "source": [
    "#Load datasets\n",
    "ratings_pd = pd.read_csv('https://raw.githubusercontent.com/ncooper76/DATA_643_Group/master/Final_Project/review_p.csv')\n",
    "business_pd = pd.read_csv('https://raw.githubusercontent.com/ncooper76/DATA_643_Group/master/Final_Project/business_p.csv')\n",
    "user_pd = pd.read_csv('https://raw.githubusercontent.com/ncooper76/DATA_643_Group/master/Final_Project/user_p.csv')\n",
    "\n",
    "#Since user id is char datatype convert to numeric\n",
    "business_pd['businessId'] = business_pd.index + 1\n",
    "user_pd['userId'] = user_pd.index + 1"
   ]
  },
  {
   "cell_type": "code",
   "execution_count": 3,
   "metadata": {},
   "outputs": [],
   "source": [
    "#apply numeric value to ratings dataset\n",
    "ratings_pd = ratings_pd.merge(business_pd, how = 'left', left_on = 'business_id', right_on = 'business_id')\n",
    "ratings_pd = ratings_pd.merge(user_pd, how = 'left', left_on = 'user_id', right_on = 'user_id')\n",
    "ratings_pd = ratings_pd[['businessId', 'stars_x', 'userId']]\n",
    "ratings_pd.columns = ['businessId', 'stars','userId']"
   ]
  },
  {
   "cell_type": "code",
   "execution_count": 4,
   "metadata": {},
   "outputs": [],
   "source": [
    "#Entire dataset mean\n",
    "rawmean = ratings_pd['stars'].mean()\n",
    "\n",
    "#Raw mean for user - user bias\n",
    "user_rawmean = pd.DataFrame(ratings_pd.groupby(['userId'])['stars'].mean() - rawmean)\n",
    "user_rawmean.columns = ['userBias']\n",
    "user_rawmean['userId'] = user_rawmean.index\n",
    "user_rawmean = user_rawmean.reset_index(drop=True)\n",
    "\n",
    "#Raw mean for business - business bias\n",
    "business_rawmean = pd.DataFrame(ratings_pd.groupby(['businessId'])['stars'].mean() - rawmean)\n",
    "business_rawmean.columns = ['businessBias']\n",
    "business_rawmean['businessId'] = business_rawmean.index\n",
    "business_rawmean = business_rawmean.reset_index(drop=True)"
   ]
  },
  {
   "cell_type": "code",
   "execution_count": 5,
   "metadata": {},
   "outputs": [
    {
     "name": "stdout",
     "output_type": "stream",
     "text": [
      "Ratings Dataset is : 99.82% Sparse\n"
     ]
    }
   ],
   "source": [
    "#pivot dataframe userId as columns and businessId as columns\n",
    "ratings_df = ratings_pd.pivot(index = 'userId', columns ='businessId', values = 'stars').fillna(0)\n",
    "ratings_df['userId'] = ratings_df.index\n",
    "\n",
    "#Convert ratings dataframe to matrix\n",
    "rating_matrix = ratings_df.values\n",
    "\n",
    "#Check how sparse dataset is\n",
    "sparsity = isSparse(rating_matrix)\n",
    "print('Ratings Dataset is : {:.2f}% Sparse'.format(sparsity))"
   ]
  },
  {
   "cell_type": "code",
   "execution_count": 6,
   "metadata": {},
   "outputs": [
    {
     "data": {
      "text/plain": [
       "userId\n",
       "1        1\n",
       "24724    1\n",
       "24723    1\n",
       "24721    1\n",
       "24719    1\n",
       "24718    1\n",
       "24715    1\n",
       "24713    1\n",
       "24712    1\n",
       "24711    1\n",
       "dtype: int64"
      ]
     },
     "execution_count": 6,
     "metadata": {},
     "output_type": "execute_result"
    }
   ],
   "source": [
    "#Calculate user-business ratings\n",
    "user_visits = ratings_pd.groupby(['userId']).size().sort_values(ascending=True)\n",
    "\n",
    "user_visits.head(10)"
   ]
  },
  {
   "cell_type": "code",
   "execution_count": 7,
   "metadata": {},
   "outputs": [
    {
     "data": {
      "text/plain": [
       "userId\n",
       "1874     192\n",
       "13757    208\n",
       "37600    236\n",
       "20546    241\n",
       "1908     245\n",
       "15052    247\n",
       "41339    336\n",
       "23696    337\n",
       "35390    365\n",
       "32526    466\n",
       "dtype: int64"
      ]
     },
     "execution_count": 7,
     "metadata": {},
     "output_type": "execute_result"
    }
   ],
   "source": [
    "user_visits.tail(10)"
   ]
  },
  {
   "cell_type": "markdown",
   "metadata": {},
   "source": [
    "We are working with very sparse dataset. One of the reason data is sparse could be once user finds resturants that cater according to their taste most of them stick with same resturant.\n",
    "\n",
    "To overcome the problem, we will be using baseline prediction method using dataset average and user/business bias."
   ]
  },
  {
   "cell_type": "code",
   "execution_count": 8,
   "metadata": {},
   "outputs": [],
   "source": [
    "#Convert user X business matrix to rows format\n",
    "#Each rows with have user, business, rating\n",
    "predicted_ratings_CtoR = pd.melt(ratings_df, id_vars='userId')\n",
    "predicted_ratings_CtoR.columns = ['userId', 'businessId','stars']\n",
    "predicted_ratings_CtoR['businessId'] = predicted_ratings_CtoR['businessId'].astype(int)\n",
    "\n",
    "#Attach baseline average ratings\n",
    "predicted_ratings_CtoR = predicted_ratings_CtoR.merge(user_rawmean, how='left', left_on=['userId'], right_on = ['userId'])\n",
    "predicted_ratings_CtoR = predicted_ratings_CtoR.merge(business_rawmean, how='left', left_on=['businessId'], right_on = ['businessId'])\n",
    "\n",
    "#Update ratings for only missing values\n",
    "predicted_ratings_CtoR['stars'] = np.where(predicted_ratings_CtoR['stars'] == 0, \n",
    "                      rawmean + predicted_ratings_CtoR['userBias'] + predicted_ratings_CtoR['businessBias'], \n",
    "                      predicted_ratings_CtoR['stars'])\n",
    "\n",
    "#Since ratings are between 1 and 5 change accordingly\n",
    "predicted_ratings_CtoR.loc[predicted_ratings_CtoR['stars'] < 1, 'stars'] = 1\n",
    "predicted_ratings_CtoR.loc[predicted_ratings_CtoR['stars'] > 5, 'stars'] = 5"
   ]
  },
  {
   "cell_type": "code",
   "execution_count": 9,
   "metadata": {},
   "outputs": [
    {
     "data": {
      "text/plain": [
       "63"
      ]
     },
     "execution_count": 9,
     "metadata": {},
     "output_type": "execute_result"
    }
   ],
   "source": [
    "#Convert predicted_ratings_CtoR back to user X business matrix\n",
    "ratings_df = predicted_ratings_CtoR.pivot(index = 'userId', columns ='businessId', values = 'stars').fillna(0)\n",
    "\n",
    "#remove predicted_ratings_CtoR dataframe to free up memory\n",
    "del [[predicted_ratings_CtoR]]\n",
    "gc.collect()"
   ]
  },
  {
   "cell_type": "code",
   "execution_count": 10,
   "metadata": {},
   "outputs": [
    {
     "name": "stdout",
     "output_type": "stream",
     "text": [
      "RMSE : 0.000000\n"
     ]
    }
   ],
   "source": [
    "#Compute SVD martix factorization\n",
    "rating_matrix = ratings_df.values\n",
    "U, sigma, Vt = np.linalg.svd(rating_matrix, full_matrices=False)\n",
    "\n",
    "#Get diagonal sigma\n",
    "sigma_diag = np.diag(sigma)\n",
    "\n",
    "#Recalculate ratings\n",
    "predicted_ratings = np.dot(np.dot(U, sigma_diag), Vt)\n",
    "\n",
    "rmse = mean_squared_error(predicted_ratings, rating_matrix)**0.5\n",
    "print('RMSE : {:.6f}'.format(rmse))"
   ]
  },
  {
   "cell_type": "code",
   "execution_count": 11,
   "metadata": {},
   "outputs": [
    {
     "name": "stdout",
     "output_type": "stream",
     "text": [
      "RMSE : 0.003 Frobenius Norm : 26.901 k-Value reduced by : 0 Singlar Value Ratio : 1.0\n",
      "RMSE : 0.011 Frobenius Norm : 103.281 k-Value reduced by : 1335 Singlar Value Ratio : 1.0\n",
      "RMSE : 0.021 Frobenius Norm : 203.767 k-Value reduced by : 1931 Singlar Value Ratio : 1.0\n",
      "RMSE : 0.027 Frobenius Norm : 263.275 k-Value reduced by : 2121 Singlar Value Ratio : 1.0\n",
      "RMSE : 0.031 Frobenius Norm : 295.559 k-Value reduced by : 2183 Singlar Value Ratio : 1.0\n",
      "RMSE : 0.032 Frobenius Norm : 305.027 k-Value reduced by : 2195 Singlar Value Ratio : 1.0\n",
      "RMSE : 0.032 Frobenius Norm : 307.623 k-Value reduced by : 2197 Singlar Value Ratio : 1.0\n"
     ]
    }
   ],
   "source": [
    "#Lets loop through reducing k value\n",
    "r, c = rating_matrix.shape\n",
    "k = min(r, c)\n",
    "for i in range(5, 40, 5):\n",
    "\n",
    "    # take columns less than k from U\n",
    "    U_p = U[:,:k]\n",
    "    # take rows less than k from V\n",
    "    V_p = Vt[:k,:]\n",
    "    # build the new S matrix with top k diagnal elements\n",
    "    S_p = np.zeros((k, k), int)\n",
    "    for j in range(k):\n",
    "        S_p[j][j] = sigma[j]\n",
    "    \n",
    "    #Recalculate ratings\n",
    "    predicted_ratings = np.dot(np.dot(U_p, S_p), V_p)\n",
    "\n",
    "    #Calculate error difference\n",
    "    diffM = rating_matrix - predicted_ratings\n",
    "    \n",
    "    #Frobenius Norm\n",
    "    frobeniusNorm = np.linalg.norm(diffM, 'fro')\n",
    "    \n",
    "    #Singular value ratio has to be 90%\n",
    "    if (k == min(r, c)):\n",
    "        sigma_ratio = round(sum(sigma**2)/sum(sigma**2),3)\n",
    "    else:\n",
    "        less_singular_values = sigma[ np.where( sigma >= i ) ]\n",
    "        sigma_ratio = round(sum(less_singular_values**2)/sum(sigma**2),3)\n",
    "    \n",
    "    \n",
    "    #RMSE\n",
    "    rmse = mean_squared_error(predicted_ratings, rating_matrix)**0.5\n",
    "    print(\"RMSE : \" + str(round(rmse,3)) + \n",
    "          ' Frobenius Norm : ' + str(round(frobeniusNorm,3)) + \n",
    "          ' k-Value reduced by : ' + str(min(r, c) - k) + \n",
    "          ' Singlar Value Ratio : ' + str(sigma_ratio)\n",
    "         )\n",
    "    \n",
    "    \n",
    "    \n",
    "    #Eliminate rows with low sigma value\n",
    "    k = min(r, c) - sigma[ np.where( sigma < i ) ].size"
   ]
  },
  {
   "cell_type": "markdown",
   "metadata": {},
   "source": [
    "Single Value Ratio is high even when we remove 1931 dimensions is because dataset has 42K business and little over 2K users rating them. Also, using baseline rating method has direct influence on it."
   ]
  },
  {
   "cell_type": "code",
   "execution_count": 12,
   "metadata": {},
   "outputs": [],
   "source": [
    "#Number of dimensions\n",
    "k = min(r, c) - 1931\n",
    "# take columns less than k from U\n",
    "U_p = U[:,:k]\n",
    "# take rows less than k from V\n",
    "V_p = Vt[:k,:]\n",
    "# build the new S matrix with top k diagnal elements\n",
    "S_p = np.zeros((k, k), int)\n",
    "for j in range(k):\n",
    "    S_p[j][j] = sigma[j]\n",
    "\n",
    "#Recalculate ratings\n",
    "predicted_ratings = np.dot(np.dot(U_p, S_p), V_p) "
   ]
  },
  {
   "cell_type": "code",
   "execution_count": 13,
   "metadata": {},
   "outputs": [],
   "source": [
    "#Apply visited column to original rating dataframe\n",
    "ratings_pd['visited'] = 1"
   ]
  },
  {
   "cell_type": "code",
   "execution_count": 14,
   "metadata": {},
   "outputs": [],
   "source": [
    "#Apply visited column to predicted values dataset\n",
    "predicted_ratings = pd.DataFrame(predicted_ratings)\n",
    "predicted_ratings['userId'] = predicted_ratings.index + 1\n",
    "predicted_ratings_CtoR = pd.melt(predicted_ratings, id_vars='userId')\n",
    "predicted_ratings_CtoR.columns = ['userId', 'businessId','predict']\n",
    "predicted_ratings_CtoR['businessId'] = predicted_ratings_CtoR['businessId'] + 1\n",
    "predicted_ratings_CtoR['businessId'] = predicted_ratings_CtoR['businessId'].astype(int)\n",
    "\n",
    "predicted_ratings_CtoR = predicted_ratings_CtoR.merge(ratings_pd, how='left', left_on=['userId','businessId'], right_on = ['userId','businessId'])\n",
    "predicted_ratings_CtoR = predicted_ratings_CtoR[['businessId', 'userId', 'predict','visited']]"
   ]
  },
  {
   "cell_type": "code",
   "execution_count": 15,
   "metadata": {},
   "outputs": [],
   "source": [
    "#Create user profile\n",
    "#User 32526 has rated about 466 resturants\n",
    "sample_data = predicted_ratings_CtoR[(predicted_ratings_CtoR['userId'] == 32526)]\n",
    "\n",
    "#Fill non-visited resturants with zero value\n",
    "sample_data = sample_data.fillna(0)\n",
    "\n",
    "#Split user dataset into visited and non-visited datasets\n",
    "sample_visited = sample_data[sample_data['visited'] ==1]\n",
    "sample_not_visited = sample_data[sample_data['visited'] ==0]\n",
    "\n",
    "#Select random non visited resturants\n",
    "#if visited resturants are higher than non-visited use non-visited count else visited count \n",
    "random_count = sample_not_visited.shape[0] if sample_visited.shape[0] > sample_not_visited.shape[0] else sample_visited.shape[0]\n",
    "\n",
    "#Get ramdom sample of non-visited resturants and split into 2 sets\n",
    "random_not_visited = sample_not_visited.sample(n=random_count)\n",
    "random_not_visited1, random_not_visited2 = train_test_split(random_not_visited, test_size =0.2, random_state=0)\n",
    "\n",
    "#apply one set to visited resturants so we get good mix of visited and non-visited resturants in training dataset\n",
    "train_data = sample_visited.append(random_not_visited1)\n",
    "test_data = random_not_visited2"
   ]
  },
  {
   "cell_type": "code",
   "execution_count": 16,
   "metadata": {},
   "outputs": [],
   "source": [
    "#Apply latent features to train and test datasets\n",
    "#In this we will be using business features 'is_open','review_count','stars' - critic rating\n",
    "train_data = pd.merge(train_data[['businessId','predict','visited']],\n",
    "                     business_pd[['businessId','is_open','review_count','stars']],\n",
    "                     how='left', on='businessId')\n",
    "train_data = train_data.fillna(0)\n",
    "rest_train_X = train_data[['predict','is_open','review_count','stars']]\n",
    "rest_train_y = train_data[['visited']]\n",
    "\n",
    "test_data = pd.merge(test_data[['businessId','predict','visited']],\n",
    "                     business_pd[['businessId','is_open','review_count','stars']],\n",
    "                     how='left', on='businessId')\n",
    "test_data = test_data.fillna(0)\n",
    "rest_test_X = test_data[['predict','is_open','review_count','stars']]\n",
    "rest_test_y = test_data[['visited']]"
   ]
  },
  {
   "cell_type": "code",
   "execution_count": 17,
   "metadata": {},
   "outputs": [
    {
     "data": {
      "text/html": [
       "<div>\n",
       "<style scoped>\n",
       "    .dataframe tbody tr th:only-of-type {\n",
       "        vertical-align: middle;\n",
       "    }\n",
       "\n",
       "    .dataframe tbody tr th {\n",
       "        vertical-align: top;\n",
       "    }\n",
       "\n",
       "    .dataframe thead th {\n",
       "        text-align: right;\n",
       "    }\n",
       "</style>\n",
       "<table border=\"1\" class=\"dataframe\">\n",
       "  <thead>\n",
       "    <tr style=\"text-align: right;\">\n",
       "      <th></th>\n",
       "      <th>businessId</th>\n",
       "      <th>predict</th>\n",
       "      <th>visited</th>\n",
       "      <th>is_open</th>\n",
       "      <th>review_count</th>\n",
       "      <th>stars</th>\n",
       "    </tr>\n",
       "  </thead>\n",
       "  <tbody>\n",
       "    <tr>\n",
       "      <th>288</th>\n",
       "      <td>1321</td>\n",
       "      <td>2.009184</td>\n",
       "      <td>1.0</td>\n",
       "      <td>0</td>\n",
       "      <td>23</td>\n",
       "      <td>3.5</td>\n",
       "    </tr>\n",
       "    <tr>\n",
       "      <th>526</th>\n",
       "      <td>1226</td>\n",
       "      <td>3.785422</td>\n",
       "      <td>0.0</td>\n",
       "      <td>1</td>\n",
       "      <td>23</td>\n",
       "      <td>3.5</td>\n",
       "    </tr>\n",
       "    <tr>\n",
       "      <th>303</th>\n",
       "      <td>1375</td>\n",
       "      <td>4.046619</td>\n",
       "      <td>1.0</td>\n",
       "      <td>1</td>\n",
       "      <td>70</td>\n",
       "      <td>3.5</td>\n",
       "    </tr>\n",
       "    <tr>\n",
       "      <th>657</th>\n",
       "      <td>1050</td>\n",
       "      <td>3.531745</td>\n",
       "      <td>0.0</td>\n",
       "      <td>1</td>\n",
       "      <td>37</td>\n",
       "      <td>3.5</td>\n",
       "    </tr>\n",
       "    <tr>\n",
       "      <th>315</th>\n",
       "      <td>1424</td>\n",
       "      <td>3.962379</td>\n",
       "      <td>1.0</td>\n",
       "      <td>1</td>\n",
       "      <td>277</td>\n",
       "      <td>4.0</td>\n",
       "    </tr>\n",
       "    <tr>\n",
       "      <th>356</th>\n",
       "      <td>1611</td>\n",
       "      <td>4.019452</td>\n",
       "      <td>1.0</td>\n",
       "      <td>1</td>\n",
       "      <td>72</td>\n",
       "      <td>4.0</td>\n",
       "    </tr>\n",
       "    <tr>\n",
       "      <th>379</th>\n",
       "      <td>1734</td>\n",
       "      <td>2.949257</td>\n",
       "      <td>1.0</td>\n",
       "      <td>1</td>\n",
       "      <td>268</td>\n",
       "      <td>3.5</td>\n",
       "    </tr>\n",
       "    <tr>\n",
       "      <th>638</th>\n",
       "      <td>80</td>\n",
       "      <td>4.123171</td>\n",
       "      <td>0.0</td>\n",
       "      <td>0</td>\n",
       "      <td>6</td>\n",
       "      <td>4.0</td>\n",
       "    </tr>\n",
       "    <tr>\n",
       "      <th>686</th>\n",
       "      <td>1288</td>\n",
       "      <td>2.916389</td>\n",
       "      <td>0.0</td>\n",
       "      <td>1</td>\n",
       "      <td>63</td>\n",
       "      <td>2.5</td>\n",
       "    </tr>\n",
       "    <tr>\n",
       "      <th>88</th>\n",
       "      <td>414</td>\n",
       "      <td>3.075847</td>\n",
       "      <td>1.0</td>\n",
       "      <td>1</td>\n",
       "      <td>4</td>\n",
       "      <td>3.0</td>\n",
       "    </tr>\n",
       "  </tbody>\n",
       "</table>\n",
       "</div>"
      ],
      "text/plain": [
       "     businessId   predict  visited  is_open  review_count  stars\n",
       "288        1321  2.009184      1.0        0            23    3.5\n",
       "526        1226  3.785422      0.0        1            23    3.5\n",
       "303        1375  4.046619      1.0        1            70    3.5\n",
       "657        1050  3.531745      0.0        1            37    3.5\n",
       "315        1424  3.962379      1.0        1           277    4.0\n",
       "356        1611  4.019452      1.0        1            72    4.0\n",
       "379        1734  2.949257      1.0        1           268    3.5\n",
       "638          80  4.123171      0.0        0             6    4.0\n",
       "686        1288  2.916389      0.0        1            63    2.5\n",
       "88          414  3.075847      1.0        1             4    3.0"
      ]
     },
     "execution_count": 17,
     "metadata": {},
     "output_type": "execute_result"
    }
   ],
   "source": [
    "train_data.sample(n=10)"
   ]
  },
  {
   "cell_type": "code",
   "execution_count": 18,
   "metadata": {},
   "outputs": [
    {
     "data": {
      "text/html": [
       "<div>\n",
       "<style scoped>\n",
       "    .dataframe tbody tr th:only-of-type {\n",
       "        vertical-align: middle;\n",
       "    }\n",
       "\n",
       "    .dataframe tbody tr th {\n",
       "        vertical-align: top;\n",
       "    }\n",
       "\n",
       "    .dataframe thead th {\n",
       "        text-align: right;\n",
       "    }\n",
       "</style>\n",
       "<table border=\"1\" class=\"dataframe\">\n",
       "  <thead>\n",
       "    <tr style=\"text-align: right;\">\n",
       "      <th></th>\n",
       "      <th>businessId</th>\n",
       "      <th>predict</th>\n",
       "      <th>visited</th>\n",
       "      <th>is_open</th>\n",
       "      <th>review_count</th>\n",
       "      <th>stars</th>\n",
       "    </tr>\n",
       "  </thead>\n",
       "  <tbody>\n",
       "    <tr>\n",
       "      <th>85</th>\n",
       "      <td>464</td>\n",
       "      <td>3.614799</td>\n",
       "      <td>0.0</td>\n",
       "      <td>1</td>\n",
       "      <td>3</td>\n",
       "      <td>3.5</td>\n",
       "    </tr>\n",
       "    <tr>\n",
       "      <th>70</th>\n",
       "      <td>1237</td>\n",
       "      <td>3.893479</td>\n",
       "      <td>0.0</td>\n",
       "      <td>1</td>\n",
       "      <td>26</td>\n",
       "      <td>3.5</td>\n",
       "    </tr>\n",
       "    <tr>\n",
       "      <th>71</th>\n",
       "      <td>1180</td>\n",
       "      <td>3.107622</td>\n",
       "      <td>0.0</td>\n",
       "      <td>1</td>\n",
       "      <td>72</td>\n",
       "      <td>3.0</td>\n",
       "    </tr>\n",
       "    <tr>\n",
       "      <th>69</th>\n",
       "      <td>1527</td>\n",
       "      <td>4.210103</td>\n",
       "      <td>0.0</td>\n",
       "      <td>1</td>\n",
       "      <td>152</td>\n",
       "      <td>4.0</td>\n",
       "    </tr>\n",
       "    <tr>\n",
       "      <th>63</th>\n",
       "      <td>1287</td>\n",
       "      <td>2.818222</td>\n",
       "      <td>0.0</td>\n",
       "      <td>1</td>\n",
       "      <td>15</td>\n",
       "      <td>2.5</td>\n",
       "    </tr>\n",
       "    <tr>\n",
       "      <th>72</th>\n",
       "      <td>1798</td>\n",
       "      <td>2.514741</td>\n",
       "      <td>0.0</td>\n",
       "      <td>1</td>\n",
       "      <td>23</td>\n",
       "      <td>2.5</td>\n",
       "    </tr>\n",
       "    <tr>\n",
       "      <th>20</th>\n",
       "      <td>365</td>\n",
       "      <td>2.907462</td>\n",
       "      <td>0.0</td>\n",
       "      <td>0</td>\n",
       "      <td>8</td>\n",
       "      <td>2.5</td>\n",
       "    </tr>\n",
       "    <tr>\n",
       "      <th>53</th>\n",
       "      <td>1930</td>\n",
       "      <td>3.547232</td>\n",
       "      <td>0.0</td>\n",
       "      <td>1</td>\n",
       "      <td>117</td>\n",
       "      <td>3.0</td>\n",
       "    </tr>\n",
       "    <tr>\n",
       "      <th>66</th>\n",
       "      <td>2189</td>\n",
       "      <td>3.247117</td>\n",
       "      <td>0.0</td>\n",
       "      <td>0</td>\n",
       "      <td>28</td>\n",
       "      <td>3.0</td>\n",
       "    </tr>\n",
       "    <tr>\n",
       "      <th>50</th>\n",
       "      <td>2072</td>\n",
       "      <td>3.291243</td>\n",
       "      <td>0.0</td>\n",
       "      <td>0</td>\n",
       "      <td>4</td>\n",
       "      <td>3.0</td>\n",
       "    </tr>\n",
       "  </tbody>\n",
       "</table>\n",
       "</div>"
      ],
      "text/plain": [
       "    businessId   predict  visited  is_open  review_count  stars\n",
       "85         464  3.614799      0.0        1             3    3.5\n",
       "70        1237  3.893479      0.0        1            26    3.5\n",
       "71        1180  3.107622      0.0        1            72    3.0\n",
       "69        1527  4.210103      0.0        1           152    4.0\n",
       "63        1287  2.818222      0.0        1            15    2.5\n",
       "72        1798  2.514741      0.0        1            23    2.5\n",
       "20         365  2.907462      0.0        0             8    2.5\n",
       "53        1930  3.547232      0.0        1           117    3.0\n",
       "66        2189  3.247117      0.0        0            28    3.0\n",
       "50        2072  3.291243      0.0        0             4    3.0"
      ]
     },
     "execution_count": 18,
     "metadata": {},
     "output_type": "execute_result"
    }
   ],
   "source": [
    "test_data.sample(n=10)"
   ]
  },
  {
   "cell_type": "code",
   "execution_count": 19,
   "metadata": {},
   "outputs": [
    {
     "data": {
      "text/plain": [
       "56"
      ]
     },
     "execution_count": 19,
     "metadata": {},
     "output_type": "execute_result"
    }
   ],
   "source": [
    "#Clean up dataframe it has 93+ million records\n",
    "del [[predicted_ratings_CtoR]]\n",
    "gc.collect()"
   ]
  },
  {
   "cell_type": "code",
   "execution_count": 20,
   "metadata": {},
   "outputs": [
    {
     "name": "stdout",
     "output_type": "stream",
     "text": [
      "Optimization terminated successfully.\n",
      "         Current function value: 0.653832\n",
      "         Iterations 6\n",
      "                           Logit Regression Results                           \n",
      "==============================================================================\n",
      "Dep. Variable:                visited   No. Observations:                  838\n",
      "Model:                          Logit   Df Residuals:                      834\n",
      "Method:                           MLE   Df Model:                            3\n",
      "Date:                Sun, 15 Jul 2018   Pseudo R-squ.:                 0.04806\n",
      "Time:                        14:12:08   Log-Likelihood:                -547.91\n",
      "converged:                       True   LL-Null:                       -575.57\n",
      "                                        LLR p-value:                 5.851e-12\n",
      "================================================================================\n",
      "                   coef    std err          z      P>|z|      [0.025      0.975]\n",
      "--------------------------------------------------------------------------------\n",
      "predict          0.4987      0.116      4.310      0.000       0.272       0.725\n",
      "is_open         -0.3765      0.160     -2.352      0.019      -0.690      -0.063\n",
      "review_count     0.0044      0.001      4.645      0.000       0.003       0.006\n",
      "stars           -0.4886      0.127     -3.858      0.000      -0.737      -0.240\n",
      "================================================================================\n"
     ]
    }
   ],
   "source": [
    "#Build logit model\n",
    "logit_model=sm.Logit(rest_train_y,rest_train_X)\n",
    "result=logit_model.fit()\n",
    "print(result.summary())"
   ]
  },
  {
   "cell_type": "code",
   "execution_count": 21,
   "metadata": {},
   "outputs": [
    {
     "name": "stdout",
     "output_type": "stream",
     "text": [
      "Accuracy of logistic regression classifier on test set: 0.41\n"
     ]
    }
   ],
   "source": [
    "#Sperate dependent and independent variables\n",
    "predictors = ['predict','is_open','review_count','stars']\n",
    "outcome = ['visited']\n",
    "\n",
    "#Using the model get predictions\n",
    "logreg = LogisticRegression()\n",
    "logreg.fit(train_data[predictors], train_data[outcome].values.ravel())\n",
    "\n",
    "y_pred = logreg.predict(test_data[predictors])\n",
    "print('Accuracy of logistic regression classifier on test set: {:.2f}'.format(logreg.score(test_data[predictors], test_data[outcome].values.ravel())))\n"
   ]
  },
  {
   "cell_type": "code",
   "execution_count": 22,
   "metadata": {},
   "outputs": [
    {
     "data": {
      "text/html": [
       "<div>\n",
       "<style scoped>\n",
       "    .dataframe tbody tr th:only-of-type {\n",
       "        vertical-align: middle;\n",
       "    }\n",
       "\n",
       "    .dataframe tbody tr th {\n",
       "        vertical-align: top;\n",
       "    }\n",
       "\n",
       "    .dataframe thead th {\n",
       "        text-align: right;\n",
       "    }\n",
       "</style>\n",
       "<table border=\"1\" class=\"dataframe\">\n",
       "  <thead>\n",
       "    <tr style=\"text-align: right;\">\n",
       "      <th></th>\n",
       "      <th>businessId</th>\n",
       "      <th>predict</th>\n",
       "      <th>visited</th>\n",
       "      <th>is_open</th>\n",
       "      <th>review_count</th>\n",
       "      <th>stars</th>\n",
       "      <th>suggested</th>\n",
       "    </tr>\n",
       "  </thead>\n",
       "  <tbody>\n",
       "    <tr>\n",
       "      <th>62</th>\n",
       "      <td>720</td>\n",
       "      <td>4.477353</td>\n",
       "      <td>0.0</td>\n",
       "      <td>1</td>\n",
       "      <td>25</td>\n",
       "      <td>4.0</td>\n",
       "      <td>1.0</td>\n",
       "    </tr>\n",
       "    <tr>\n",
       "      <th>54</th>\n",
       "      <td>2005</td>\n",
       "      <td>4.289236</td>\n",
       "      <td>0.0</td>\n",
       "      <td>1</td>\n",
       "      <td>279</td>\n",
       "      <td>4.0</td>\n",
       "      <td>1.0</td>\n",
       "    </tr>\n",
       "    <tr>\n",
       "      <th>25</th>\n",
       "      <td>977</td>\n",
       "      <td>2.734311</td>\n",
       "      <td>0.0</td>\n",
       "      <td>1</td>\n",
       "      <td>9</td>\n",
       "      <td>2.5</td>\n",
       "      <td>0.0</td>\n",
       "    </tr>\n",
       "    <tr>\n",
       "      <th>8</th>\n",
       "      <td>2134</td>\n",
       "      <td>3.605971</td>\n",
       "      <td>0.0</td>\n",
       "      <td>1</td>\n",
       "      <td>44</td>\n",
       "      <td>3.5</td>\n",
       "      <td>0.0</td>\n",
       "    </tr>\n",
       "    <tr>\n",
       "      <th>43</th>\n",
       "      <td>277</td>\n",
       "      <td>4.772387</td>\n",
       "      <td>0.0</td>\n",
       "      <td>1</td>\n",
       "      <td>39</td>\n",
       "      <td>4.5</td>\n",
       "      <td>0.0</td>\n",
       "    </tr>\n",
       "    <tr>\n",
       "      <th>69</th>\n",
       "      <td>1527</td>\n",
       "      <td>4.210103</td>\n",
       "      <td>0.0</td>\n",
       "      <td>1</td>\n",
       "      <td>152</td>\n",
       "      <td>4.0</td>\n",
       "      <td>1.0</td>\n",
       "    </tr>\n",
       "    <tr>\n",
       "      <th>87</th>\n",
       "      <td>311</td>\n",
       "      <td>4.503321</td>\n",
       "      <td>0.0</td>\n",
       "      <td>1</td>\n",
       "      <td>71</td>\n",
       "      <td>4.0</td>\n",
       "      <td>1.0</td>\n",
       "    </tr>\n",
       "    <tr>\n",
       "      <th>53</th>\n",
       "      <td>1930</td>\n",
       "      <td>3.547232</td>\n",
       "      <td>0.0</td>\n",
       "      <td>1</td>\n",
       "      <td>117</td>\n",
       "      <td>3.0</td>\n",
       "      <td>1.0</td>\n",
       "    </tr>\n",
       "    <tr>\n",
       "      <th>56</th>\n",
       "      <td>535</td>\n",
       "      <td>4.106815</td>\n",
       "      <td>0.0</td>\n",
       "      <td>1</td>\n",
       "      <td>19</td>\n",
       "      <td>4.0</td>\n",
       "      <td>0.0</td>\n",
       "    </tr>\n",
       "    <tr>\n",
       "      <th>49</th>\n",
       "      <td>1878</td>\n",
       "      <td>4.774968</td>\n",
       "      <td>0.0</td>\n",
       "      <td>1</td>\n",
       "      <td>159</td>\n",
       "      <td>4.5</td>\n",
       "      <td>1.0</td>\n",
       "    </tr>\n",
       "  </tbody>\n",
       "</table>\n",
       "</div>"
      ],
      "text/plain": [
       "    businessId   predict  visited  is_open  review_count  stars  suggested\n",
       "62         720  4.477353      0.0        1            25    4.0        1.0\n",
       "54        2005  4.289236      0.0        1           279    4.0        1.0\n",
       "25         977  2.734311      0.0        1             9    2.5        0.0\n",
       "8         2134  3.605971      0.0        1            44    3.5        0.0\n",
       "43         277  4.772387      0.0        1            39    4.5        0.0\n",
       "69        1527  4.210103      0.0        1           152    4.0        1.0\n",
       "87         311  4.503321      0.0        1            71    4.0        1.0\n",
       "53        1930  3.547232      0.0        1           117    3.0        1.0\n",
       "56         535  4.106815      0.0        1            19    4.0        0.0\n",
       "49        1878  4.774968      0.0        1           159    4.5        1.0"
      ]
     },
     "execution_count": 22,
     "metadata": {},
     "output_type": "execute_result"
    }
   ],
   "source": [
    "test_data['suggested'] = y_pred\n",
    "test_data[test_data['is_open']==1].sample(n=10)"
   ]
  },
  {
   "cell_type": "markdown",
   "metadata": {},
   "source": [
    "#### References\n",
    "- https://www.youtube.com/watch?v=eZZQ3UTn484\n",
    "- https://www.youtube.com/watch?v=0-o9VgOxe9Y&list=PLuKhJYywjDe96T2L0-zXFU5Up2jqXlWI9&index=11\n",
    "- http://dataaspirant.com/2017/04/15/implement-logistic-regression-model-python-binary-classification/\n",
    "- https://www.geeksforgeeks.org/check-given-matrix-sparse-not/"
   ]
  }
 ],
 "metadata": {
  "kernelspec": {
   "display_name": "Python 3",
   "language": "python",
   "name": "python3"
  },
  "language_info": {
   "codemirror_mode": {
    "name": "ipython",
    "version": 3
   },
   "file_extension": ".py",
   "mimetype": "text/x-python",
   "name": "python",
   "nbconvert_exporter": "python",
   "pygments_lexer": "ipython3",
   "version": "3.6.6"
  }
 },
 "nbformat": 4,
 "nbformat_minor": 2
}

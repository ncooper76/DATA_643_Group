{
 "cells": [
  {
   "cell_type": "code",
   "execution_count": 12,
   "metadata": {},
   "outputs": [],
   "source": [
    "#Load libraries and functions\n",
    "import numpy as np\n",
    "import pandas as pd\n",
    "from scipy.sparse.linalg import svds\n",
    "from sklearn.metrics import mean_squared_error\n",
    "import matplotlib.pyplot as plt\n",
    "from sklearn.model_selection import train_test_split\n",
    "\n",
    "#Load datasets\n",
    "ratings_pd = pd.read_csv('https://raw.githubusercontent.com/ncooper76/DATA_643_Group/master/Final_Project/review_p.csv')\n",
    "business_pd = pd.read_csv('https://raw.githubusercontent.com/ncooper76/DATA_643_Group/master/Final_Project/business_p.csv')\n",
    "user_pd = pd.read_csv('https://raw.githubusercontent.com/ncooper76/DATA_643_Group/master/Final_Project/user_p.csv')\n",
    "\n",
    "business_pd['businessId'] = business_pd.index + 1\n",
    "user_pd['userId'] = user_pd.index + 1\n",
    "\n",
    "ratings_pd = ratings_pd.merge(business_pd, how = 'left', left_on = 'business_id', right_on = 'business_id')\n",
    "ratings_pd = ratings_pd.merge(user_pd, how = 'left', left_on = 'user_id', right_on = 'user_id')\n",
    "ratings_pd = ratings_pd[['businessId', 'stars_x', 'userId']]\n",
    "ratings_pd.columns = ['businessId', 'stars','userId']\n",
    "ratings_pd['visited'] = 1\n",
    "\n",
    "ratings_df = ratings_pd.pivot(index = 'userId', columns ='businessId', values = 'stars').fillna(0)\n",
    "\n",
    "rating_matrix = ratings_df.values\n",
    "user_ratings_mean = np.mean(rating_matrix, axis = 1)\n",
    "rating_bias = rating_matrix - user_ratings_mean.reshape(-1, 1)\n",
    "\n",
    "U, sigma, Vt = np.linalg.svd(rating_bias, full_matrices=False)\n",
    "\n",
    "#Get diagonal sigma\n",
    "sigma_diag = np.diag(sigma)\n",
    "\n",
    "#Recalculate ratings\n",
    "predicted_ratings = np.dot(np.dot(U, sigma_diag), Vt) + user_ratings_mean.reshape(-1, 1)\n",
    "predicted_ratings = pd.DataFrame(predicted_ratings)\n",
    "predicted_ratings['userId'] = predicted_ratings.index + 1\n",
    "predicted_ratings_CtoR = pd.melt(predicted_ratings, id_vars='userId')\n",
    "predicted_ratings_CtoR.columns = ['userId', 'businessId','predict']\n",
    "predicted_ratings_CtoR['businessId'] = predicted_ratings_CtoR['businessId'] + 1\n",
    "predicted_ratings_CtoR['businessId'] = predicted_ratings_CtoR['businessId'].astype(int)\n",
    "\n",
    "predicted_ratings_CtoR = predicted_ratings_CtoR.merge(ratings_pd, how='left', left_on=['userId','businessId'], right_on = ['userId','businessId'])\n",
    "predicted_ratings_CtoR = predicted_ratings_CtoR[['businessId', 'userId', 'predict','visited']]\n",
    "\n",
    "rest_train, rest_test = train_test_split(predicted_ratings_CtoR, test_size =0.2, random_state=42)\n"
   ]
  },
  {
   "cell_type": "code",
   "execution_count": 15,
   "metadata": {},
   "outputs": [],
   "source": [
    "rest_train = rest_train.merge(business_pd, how='left', left_on='businessId', right_on='businessId')"
   ]
  },
  {
   "cell_type": "code",
   "execution_count": 16,
   "metadata": {},
   "outputs": [],
   "source": [
    "rest_test = rest_test.merge(business_pd, how='left', left_on='businessId', right_on='businessId')"
   ]
  }
 ],
 "metadata": {
  "kernelspec": {
   "display_name": "Python 3",
   "language": "python",
   "name": "python3"
  },
  "language_info": {
   "codemirror_mode": {
    "name": "ipython",
    "version": 3
   },
   "file_extension": ".py",
   "mimetype": "text/x-python",
   "name": "python",
   "nbconvert_exporter": "python",
   "pygments_lexer": "ipython3",
   "version": "3.6.6"
  }
 },
 "nbformat": 4,
 "nbformat_minor": 2
}
